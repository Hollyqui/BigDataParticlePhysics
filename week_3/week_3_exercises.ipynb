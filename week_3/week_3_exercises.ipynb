{
 "cells": [
  {
   "cell_type": "code",
   "execution_count": 1,
   "metadata": {
    "jupyter": {
     "outputs_hidden": false,
     "source_hidden": false
    },
    "nteract": {
     "transient": {
      "deleting": false
     }
    }
   },
   "outputs": [],
   "source": [
    "################### IMPORTS ####################################\n",
    "import numpy as np\n",
    "import matplotlib.pyplot as plt\n",
    "import pylab\n",
    "import math\n"
   ]
  },
  {
   "cell_type": "code",
   "execution_count": 2,
   "metadata": {
    "jupyter": {
     "outputs_hidden": false,
     "source_hidden": false
    },
    "nteract": {
     "transient": {
      "deleting": false
     }
    }
   },
   "outputs": [],
   "source": [
    "################# DECLARE GLOBAL VARIABLES ###################\n",
    "\n",
    "# convert 10**30 kg (normal black hole mass) to natural numbers\n",
    "m_one = 10**30 * 9.109 * 10**(-31)\n",
    "m_two = 10**30 * 9.109 * 10**(-31)\n",
    "\n",
    "#Setting the speed of light and garvitational constant\n",
    "#to 1 as they are natural units\n",
    "c = 1\n",
    "g = 1\n",
    "M = m_one + m_two\n",
    "\n",
    "#What we set these 2 to is not really important\n",
    "t = 100\n",
    "psi = 100\n",
    "\n",
    "nu = (m_one * m_two) / M**2\n",
    "alpha = []\n",
    "alpha.append(1)\n",
    "alpha.append(0)\n",
    "SNR = 10\n",
    "\n",
    "epsilon = 0.1\n",
    "q = m_two/m_one\n",
    "\n",
    "# modify the variables in params to whichever ones you want to be taken into\n",
    "# account for the fishermatrix (from the waveform) If a parameter is taken out\n",
    "# the first line of the wavefunction has to be adjusted to not unpack that\n",
    "# nonexistent parameter\n",
    "params = [0, 0, 0, 0]"
   ]
  },
  {
   "cell_type": "code",
   "execution_count": 3,
   "metadata": {
    "jupyter": {
     "outputs_hidden": false,
     "source_hidden": false
    },
    "nteract": {
     "transient": {
      "deleting": false
     }
    }
   },
   "outputs": [],
   "source": [
    "###################### FUNCTIONS #######################\n",
    "''' These are our wavefunctions, depending on which one you want to use you input\n",
    "a different function_index'''\n",
    "\n",
    "def phi_f(f, params, function_index):\n",
    "    try:\n",
    "        if function_index == 1:\n",
    "            return phi_f1(f, params)\n",
    "        elif function_index == 2:\n",
    "            return phi_f2(f, params)\n",
    "        else:\n",
    "            return cause_an_error\n",
    "    except:\n",
    "        print(\"this wavefunction doesn't exist\")\n",
    "\n",
    "'''This wavefunction is used for part 1,2 and 3 of the exercise'''\n",
    "def phi_f1(f, params):\n",
    "    psi, t, M, nu = params\n",
    "    v = (np.pi * M * f)**(-1 / 3)\n",
    "    sum_k = 0\n",
    "    for k in range(len(alpha)):\n",
    "        sum_k += alpha[k] * v**k\n",
    "    return 2 * np.pi * f * t - psi - np.pi / 4 + 3 / (128 * nu * v**5) * sum_k\n",
    "\n",
    "'''This wavefunction was used for part 4 of the exercise as it takes into\n",
    "account the resonance frequency and the phase shift of the blackhole, and instead\n",
    "of phi, uses epsilon as a parameter'''\n",
    "def phi_f2(f, params):\n",
    "    epsilon, t, M, nu = params\n",
    "    f = get_resonance_freq()\n",
    "    v = (np.pi * M * f)**(-1 / 3)\n",
    "    sum_k = 0\n",
    "    for k in range(len(alpha)):\n",
    "        sum_k += alpha[k] * v**k\n",
    "    return 2 * np.pi * f * t - get_phase_shift(epsilon) - np.pi / 4 + 3 / (128 * nu * v**5) * sum_k\n",
    "\n",
    "'''You can add your own wavefunction'''\n",
    "def phi_f3(f, params):\n",
    "    pass  # here you can add another wave function if wanted\n",
    "\n",
    "''' Get k1 variable using epsilon'''\n",
    "def get_k1(epsilon):\n",
    "    return (8/(5*(7+3*math.log(epsilon))))\n",
    "\n",
    "'''calculating the phase shift of the gravitational wave'''\n",
    "def get_phase_shift(epsilon):\n",
    "    return ((25*np.pi*0.1**2)/(6144/2))*(np.abs(get_k1(epsilon))/(q*(1+q)))\n",
    "\n",
    "'''get resonance frequency of the black hole'''\n",
    "def get_resonance_freq():\n",
    "    return ((c**3)/(m_one*g))*(1/np.abs(math.log(epsilon)))\n",
    "\n",
    "# first find A (integral from low to high f^-7/6)/S(f)df\n",
    "''' Finds A via intergation '''\n",
    "def get_A(freq_list, pds, SNR):\n",
    "    integral = 0\n",
    "    for f, s_h in zip(freq_list, pds):\n",
    "        integral += (f)**(-7 / 6) / s_h\n",
    "    return SNR / np.sqrt(abs(integral))\n",
    "\n",
    "\n",
    "''' Calculates h(f)'''\n",
    "def get_h_f(A, f, params, function_index):\n",
    "    phi = phi_f(f, params, function_index)\n",
    "    h_f = A * f**(-7 / 6) * np.exp(1j * phi)\n",
    "    return h_f\n",
    "\n",
    "\n",
    "'''load Einstein Telescope data'''\n",
    "def load_einstein():\n",
    "    try:\n",
    "        file = open('EinsteinPDS')\n",
    "    except:\n",
    "        print(\"Please move the 'LigoPDS' file into the folder from which you are running this programme\")\n",
    "    string_read = file.read()\n",
    "    arr = list(map(float, string_read.split()))\n",
    "    x_arr = []\n",
    "    y_arr1 = []\n",
    "    y_arr2 = []\n",
    "    y_arr3 = []\n",
    "    for i in range(len(arr)):\n",
    "        if i % 4 == 0:\n",
    "            x_arr.append(arr[i])\n",
    "        if i % 4 == 1:\n",
    "            y_arr1.append(arr[i])\n",
    "        if i % 4 == 2:\n",
    "            y_arr2.append(arr[i])\n",
    "        if i % 4 == 3:\n",
    "            y_arr3.append(arr[i])\n",
    "    plt.plot(x_arr, y_arr1)\n",
    "    plt.plot(x_arr, y_arr2)\n",
    "    plt.plot(x_arr, y_arr3)\n",
    "    plt.yscale('log')\n",
    "    plt.xscale('log')\n",
    "    return x_arr, y_arr3\n",
    "\n",
    "\n",
    "'''load Advanced Ligo data'''\n",
    "def load_adv_ligo():\n",
    "    try:\n",
    "        file = open('LigoPDS')\n",
    "    except:\n",
    "        print(\"Please move the 'LigoPDS' file into the folder from which you are running this programme\")\n",
    "    string_read = file.read()\n",
    "    arr = list(map(float, string_read.split()))\n",
    "    x_arr = []\n",
    "    y_arr1 = []\n",
    "    y_arr2 = []\n",
    "    y_arr3 = []\n",
    "    y_arr4 = []\n",
    "    y_arr5 = []\n",
    "    y_arr6 = []\n",
    "    for i in range(len(arr)):\n",
    "        if i % 7 == 0:\n",
    "            x_arr.append(arr[i])\n",
    "        if i % 7 == 1:\n",
    "            y_arr1.append(arr[i])\n",
    "        if i % 7 == 2:\n",
    "            y_arr2.append(arr[i])\n",
    "        if i % 7 == 3:\n",
    "            y_arr3.append(arr[i])\n",
    "        if i % 7 == 4:\n",
    "            y_arr4.append(arr[i])\n",
    "        if i % 7 == 5:\n",
    "            y_arr5.append(arr[i])\n",
    "        if i % 7 == 6:\n",
    "            y_arr6.append(arr[i])\n",
    "    plt.plot(x_arr, y_arr1)\n",
    "    plt.plot(x_arr, y_arr2)\n",
    "    plt.plot(x_arr, y_arr3)\n",
    "    plt.plot(x_arr, y_arr4)\n",
    "    plt.plot(x_arr, y_arr5)\n",
    "    plt.plot(x_arr, y_arr6)\n",
    "    plt.yscale('log')\n",
    "    plt.xscale('log')\n",
    "    return x_arr, y_arr6\n",
    "\n",
    "\n",
    "''' Calculates S(h) for initial LIGO'''\n",
    "def s_h_ligo(f):\n",
    "    S_0 = 9 * 10**(-46)\n",
    "    f_s = 40\n",
    "    f_0 = 150\n",
    "    x = f / f_0\n",
    "    if(f >= f_s):\n",
    "        r = S_0 * (((4.49 * x)**(-56)) + 0.16 *\n",
    "                   (x**(-4.52)) + 0.52 + (0.32 * (x**2)))\n",
    "    else:\n",
    "        r = 10000000  # if infinity leads to numerical errors\n",
    "    return(r)\n",
    "\n",
    "''' Calculates S(h) for advanced LIGO'''\n",
    "def s_h_adv_ligo(f):\n",
    "    f_0 = 215\n",
    "    f_s = 20\n",
    "    S_0 = 6 * 10**(-49)\n",
    "    x = f / f_0\n",
    "    if (f >= f_s):\n",
    "        r = S_0 * (x**(-4.14) - 5 * x**(-2) +\n",
    "                   ((111 * (1 - x**2 + (x**4) / 2) / (1 + (x**2) / 2))))\n",
    "    else:\n",
    "        r = 10000000  # if infinity leads to numerical errors\n",
    "    return(r)\n",
    "\n",
    "\n",
    "''' Finds derivative h'(f)'''\n",
    "def get_h_f_derivative(A, f, i, function_index):\n",
    "    delta_x = params[i] / 10\n",
    "    new_params = params.copy()\n",
    "    new_params[i] = new_params[i] + params[i] / 10\n",
    "    delta_y = get_h_f(A, f, new_params, function_index) - get_h_f(A, f, params, function_index)\n",
    "    return delta_y / delta_x\n",
    "\n",
    "\n",
    "''' Creates matrix using previous functions'''\n",
    "def create_fisher_matrix(A, freq_list, pds, function_index):\n",
    "    fisher_matrix = []\n",
    "    for i in range(len(params)):\n",
    "        fisher_matrix.append([])\n",
    "        for j in range(len(params)):\n",
    "            integral = 0\n",
    "            for f, sh in zip(freq_list, pds):\n",
    "                integral += np.real(get_h_f_derivative(A, f, i, function_index)\n",
    "                                    * get_h_f_derivative(A, f, j, function_index) / sh)\n",
    "            # print(integral)\n",
    "            fisher_matrix[-1].append(integral)\n",
    "    return(fisher_matrix)\n",
    "'''This function can plot both the PDS of initial and advanced LIGO'''\n",
    "def graph_s_h(telescope):\n",
    "    graph_array = []\n",
    "    try:\n",
    "        if telescope == 'ligo':\n",
    "            for i in range(0, 1000):\n",
    "                graph_array.append(np.sqrt(s_h_ligo(i)))\n",
    "        elif telescope == 'adv_ligo':\n",
    "            for i in range(0, 1000):\n",
    "                graph_array.append(np.sqrt(s_h_adv_ligo(i)))\n",
    "        plt.figure()\n",
    "        plt.plot(graph_array)\n",
    "        plt.yscale('log')\n",
    "        plt.xscale('log')\n",
    "        axes = plt.gca()\n",
    "        axes.set_ylim([10**(-24), 10**(-21)])\n",
    "        axes.set_xlim([10**1, 10**3])\n",
    "    except:\n",
    "        print(\"no analytical solve for this telescope known\")"
   ]
  },
  {
   "cell_type": "code",
   "execution_count": 4,
   "metadata": {
    "jupyter": {
     "outputs_hidden": false,
     "source_hidden": false
    },
    "nteract": {
     "transient": {
      "deleting": false
     }
    }
   },
   "outputs": [
    {
     "data": {
      "text/plain": [
       "\" As you can see here the PDS of the Einstein telescope is smaller across the\\nboard, indicating that it is capable of detecting much smaller signals. It is\\nalso notable that the x-axis doesn't have the same range, where ligo already\\nsignificantly worsens around f<10^2 the Einstein telescope keeps up until\\nf<10^1\""
      ]
     },
     "execution_count": 4,
     "metadata": {},
     "output_type": "execute_result"
    },
    {
     "data": {
      "image/png": "[encoded data removed]",
      "text/plain": [
       "<Figure size 432x288 with 1 Axes>"
      ]
     },
     "metadata": {
      "needs_background": "light"
     },
     "output_type": "display_data"
    }
   ],
   "source": [
    "############################## MAIN #######################################\n",
    "# Comment colour coding in the main part:\n",
    "'''green = physics'''\n",
    "#  grey = programming\n",
    "\n",
    "# first, read in the pds of advanced ligo/the Einstein telescope\n",
    "freq_list, pds = load_adv_ligo()\n",
    "freq_list_einstein, pds_einstein = load_einstein()\n",
    "\n",
    "''' As you can see here the PDS of the Einstein telescope is smaller across the\n",
    "board, indicating that it is capable of detecting much smaller signals. It is\n",
    "also notable that the x-axis doesn't have the same range, where ligo already\n",
    "significantly worsens around f<10^2 the Einstein telescope keeps up until\n",
    "f<10^1'''\n"
   ]
  },
  {
   "cell_type": "code",
   "execution_count": 5,
   "metadata": {
    "jupyter": {
     "outputs_hidden": false,
     "source_hidden": false
    },
    "nteract": {
     "transient": {
      "deleting": false
     }
    }
   },
   "outputs": [
    {
     "name": "stdout",
     "output_type": "stream",
     "text": [
      "A of LIGO:  6.924246607893725e-12\n",
      "A of Einstein Telescope:  2.720189059939407e-12\n",
      "diagonal of LIGO fishermatrix:  [5.26706941e+03 5.03515933e+03 1.69215211e+00 9.23865802e-03]\n",
      "diagonal of Einstein Telescope fishermatrix:  [5.00212737e+00 4.40748357e+00 8.49033344e-03 1.12689196e-05]\n",
      "Standard deviation of LIGO:  [72.57457827 70.95885657  1.30082747  0.09611794]\n",
      "Standard deviation of Einstein Telescope:  [2.23654362 2.09940076 0.09214301 0.00335692]\n",
      "Print values of parameters:  [100, 100, 1.8218000000000003, 0.25]\n",
      "Percent of LIGO:  [0.72574578 0.70958857 0.71403418 0.38447175]\n",
      "Percent of Einstein Telescope:  [0.02236544 0.02099401 0.050578   0.01342768]\n"
     ]
    }
   ],
   "source": [
    "'''We will now begin to compute the fisher matrix'''\n",
    "# firstly, the parameter list is set\n",
    "params = [psi, t, M, nu]\n",
    "# now, a is set via integration\n",
    "A = get_A(freq_list, pds, SNR)\n",
    "A_einstein = get_A(freq_list_einstein, pds, SNR)\n",
    "\n",
    "print('A of LIGO: ', A)\n",
    "print('A of Einstein Telescope: ', A_einstein)\n",
    "\n",
    "\n",
    "matrix = create_fisher_matrix(A, freq_list, pds, 1)\n",
    "\n",
    "matrix_einstein = create_fisher_matrix(A, freq_list_einstein, pds_einstein, 1)\n",
    "\n",
    "# invert fisher_matrix\n",
    "inverse = np.linalg.inv(matrix)\n",
    "inverse_einstein = np.linalg.inv(matrix_einstein)\n",
    "\n",
    "# extract diagonal and square root\n",
    "diag = np.abs(np.diagonal(inverse))\n",
    "diag_einstein = np.abs(np.diagonal(inverse_einstein))\n",
    "print('diagonal of LIGO fishermatrix: ', diag)\n",
    "print('diagonal of Einstein Telescope fishermatrix: ', diag_einstein)\n",
    "std = np.sqrt(diag)\n",
    "std_einstein = np.sqrt(diag_einstein)\n",
    "\n",
    "# Print standard deviation and standard deviation/value\n",
    "print('Standard deviation of LIGO: ',std)\n",
    "print('Standard deviation of Einstein Telescope: ', std_einstein)\n",
    "\n",
    "# Params are in the following order: psi, t, M, nu\n",
    "print('Print values of parameters: ', params)\n",
    "print('Percent of LIGO: ', np.divide(std, params))\n",
    "print('Percent of Einstein Telescope: ', np.divide(std_einstein, params))"
   ]
  },
  {
   "cell_type": "code",
   "execution_count": 6,
   "metadata": {
    "jupyter": {
     "outputs_hidden": false,
     "source_hidden": false
    },
    "nteract": {
     "transient": {
      "deleting": false
     }
    }
   },
   "outputs": [
    {
     "name": "stdout",
     "output_type": "stream",
     "text": [
      "A of LIGO:  6.924246607893725e-12\n",
      "A of Einstein Telescope:  2.720189059939407e-12\n",
      "diagonal of LIGO fishermatrix:  [7.74967874e+00 3.64223796e+02 4.72614096e-01 3.38861658e-04]\n",
      "diagonal of Einstein Telescope fishermatrix:  [7.54928519e-02 8.47659952e+00 1.04971351e-03 4.30643550e-05]\n",
      "Standard deviation of LIGO:  [2.78382448e+00 1.90846482e+01 6.87469342e-01 1.84081954e-02]\n",
      "Standard deviation of Einstein Telescope:  [0.27475963 2.91146003 0.03239928 0.00656234]\n",
      "Print values of parameters:  [0.1, 100, 1.8218000000000003, 0.25]\n",
      "Percent of LIGO:  [27.83824481  0.19084648  0.3773572   0.07363278]\n",
      "Percent of Einstein Telescope:  [2.74759626 0.0291146  0.01778421 0.02624937]\n"
     ]
    },
    {
     "data": {
      "text/plain": [
       "'As clearly visible, the standard deviation of the einstein telescope is almost\\n3 orders of magnitude smaller. This shows that there is a very clear improvement in\\nthe measurement capabilities, not only in terms of what the smallest signal that\\ncan be detected is but also in terms of how accurate those detections are'"
      ]
     },
     "execution_count": 6,
     "metadata": {},
     "output_type": "execute_result"
    }
   ],
   "source": [
    "'''Now we will look at the quantum black hole. Here we will do the same steps\n",
    "but we will now use the second wavefunction instead and with epsilon '''\n",
    "\n",
    "params = [epsilon, t, M, nu]\n",
    "# now, a is set via integration\n",
    "A = get_A(freq_list, pds, SNR)\n",
    "A_einstein = get_A(freq_list_einstein, pds, SNR)\n",
    "\n",
    "print('A of LIGO: ', A)\n",
    "print('A of Einstein Telescope: ', A_einstein)\n",
    "\n",
    "matrix = create_fisher_matrix(A, freq_list, pds, 1)\n",
    "\n",
    "matrix_einstein = create_fisher_matrix(A, freq_list_einstein, pds_einstein, 1)\n",
    "\n",
    "# invert fisher_matrix\n",
    "inverse = np.linalg.inv(matrix)\n",
    "inverse_einstein = np.linalg.inv(matrix_einstein)\n",
    "\n",
    "# extract diagonal and square root\n",
    "diag = np.abs(np.diagonal(inverse))\n",
    "diag_einstein = np.abs(np.diagonal(inverse_einstein))\n",
    "print('diagonal of LIGO fishermatrix: ', diag)\n",
    "print('diagonal of Einstein Telescope fishermatrix: ', diag_einstein)\n",
    "std = np.sqrt(diag)\n",
    "std_einstein = np.sqrt(diag_einstein)\n",
    "\n",
    "# Print standard deviation and standard deviation/value\n",
    "print('Standard deviation of LIGO: ',std)\n",
    "print('Standard deviation of Einstein Telescope: ', std_einstein)\n",
    "\n",
    "# Params are in the following order: epsilon, t, M, nu\n",
    "print('Print values of parameters: ', params)\n",
    "print('Percent of LIGO: ', np.divide(std, params))\n",
    "print('Percent of Einstein Telescope: ', np.divide(std_einstein, params))\n",
    "\n",
    "'''As clearly visible, the standard deviation of the einstein telescope is almost\n",
    "3 orders of magnitude smaller. This shows that there is a very clear improvement in\n",
    "the measurement capabilities, not only in terms of what the smallest signal that\n",
    "can be detected is but also in terms of how accurate those detections are'''\n"
   ]
  },
  {
   "cell_type": "code",
   "execution_count": 7,
   "metadata": {
    "jupyter": {
     "outputs_hidden": false,
     "source_hidden": false
    },
    "nteract": {
     "transient": {
      "deleting": false
     }
    }
   },
   "outputs": [
    {
     "name": "stdout",
     "output_type": "stream",
     "text": [
      "loop ran\n",
      "loop ran\n",
      "loop ran\n",
      "loop ran\n",
      "loop ran\n",
      "loop ran\n",
      "loop ran\n",
      "loop ran\n",
      "loop ran\n",
      "loop ran\n",
      "loop ran\n"
     ]
    }
   ],
   "source": [
    "\n",
    "### This section will run for quite a while since the fisher matrix has\n",
    "### to be computed many times. It returns the epsilon standard deviation\n",
    "### depending on epsilon itself and the mass ratio (q)\n",
    "\n",
    "params = [epsilon, t, M, nu]\n",
    "\n",
    "A_einstein = get_A(freq_list_einstein, pds, SNR)\n",
    "\n",
    "m_one = 1.4*(1.988*10**30 * 9.109 * 10**(-31)) #Setting mass 1 to be 1.4 solar masses\n",
    "color_plot = []\n",
    "\n",
    "\n",
    "for i in range(0,11):\n",
    "    m_two = ((i+1)*10)*(1.988*10**30 * 9.109 * 10**(-31))\n",
    "    for j in range(0,11):\n",
    "        epsilon = (j*10+1650)/100000\n",
    "        matrix_einstein = create_fisher_matrix(A_einstein, freq_list_einstein, pds_einstein, 2)\n",
    "        inverse_einstein = np.linalg.inv(matrix_einstein)\n",
    "        diag_einstein = np.abs(np.diagonal(inverse_einstein))\n",
    "        std_einstein = np.sqrt(diag_einstein)\n",
    "        color_plot.append(std_einstein[0])\n",
    "    print(\"loop ran\")\n"
   ]
  },
  {
   "cell_type": "code",
   "execution_count": 8,
   "metadata": {
    "jupyter": {
     "outputs_hidden": false,
     "source_hidden": false
    },
    "nteract": {
     "transient": {
      "deleting": false
     }
    }
   },
   "outputs": [
    {
     "data": {
      "text/plain": [
       "<matplotlib.image.AxesImage at 0x12c0a1c3828>"
      ]
     },
     "execution_count": 8,
     "metadata": {},
     "output_type": "execute_result"
    },
    {
     "data": {
      "image/png": "[encoded data removed]",
      "text/plain": [
       "<Figure size 432x288 with 1 Axes>"
      ]
     },
     "metadata": {
      "needs_background": "light"
     },
     "output_type": "display_data"
    }
   ],
   "source": [
    "'''Here we plot the results of the previous section. This results in a plot that\n",
    "has x/y axis representing epsilon/mass ratio and the colour corresponds to the\n",
    "standard deviation of epsilon. Bright = higher in this case'''\n",
    "x = np.linspace(-1, 1, 11)\n",
    "y = np.linspace(-1, 1, 11)\n",
    "\n",
    "X, Y = np.meshgrid(x, y)\n",
    "Z = np.array(color_plot).reshape(11,11)\n",
    "plt.pcolor(X, Y, Z)\n",
    "plt.imshow(Z, origin='lower',interpolation='bilinear')\n",
    "\n"
   ]
  },
  {
   "cell_type": "code",
   "execution_count": 9,
   "metadata": {
    "jupyter": {
     "outputs_hidden": false,
     "source_hidden": false
    },
    "nteract": {
     "transient": {
      "deleting": false
     }
    }
   },
   "outputs": [
    {
     "data": {
      "image/png": "[encoded data removed]",
      "text/plain": [
       "<Figure size 432x288 with 1 Axes>"
      ]
     },
     "metadata": {
      "needs_background": "light"
     },
     "output_type": "display_data"
    },
    {
     "data": {
      "image/png": "[encoded data removed]",
      "text/plain": [
       "<Figure size 432x288 with 1 Axes>"
      ]
     },
     "metadata": {
      "needs_background": "light"
     },
     "output_type": "display_data"
    }
   ],
   "source": [
    "'''The following section plots Figure 1 of the paper for the initial ligo and\n",
    "advanced ligo\n",
    "based on the analytical formula (formula 3.7 and 3.8) given in the arxiv paper as a proof of concept.\n",
    "This is to prove that our s_h function is actually working and the units used\n",
    "within it are correct'''\n",
    "\n",
    "\n",
    "graph_s_h('ligo')\n",
    "graph_s_h('adv_ligo')"
   ]
  },
  {
   "cell_type": "code",
   "execution_count": null,
   "metadata": {},
   "outputs": [],
   "source": []
  }
 ],
 "metadata": {
  "kernelspec": {
   "display_name": "Python 3",
   "language": "python",
   "name": "python3"
  },
  "language_info": {
   "codemirror_mode": {
    "name": "ipython",
    "version": 3
   },
   "file_extension": ".py",
   "mimetype": "text/x-python",
   "name": "python",
   "nbconvert_exporter": "python",
   "pygments_lexer": "ipython3",
   "version": "3.7.1"
  }
 },
 "nbformat": 4,
 "nbformat_minor": 1
}
