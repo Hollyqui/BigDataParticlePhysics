{
  "nbformat": 4,
  "nbformat_minor": 0,
  "metadata": {
    "colab": {
      "name": "Copie de LHCb_Part_1.ipynb",
      "provenance": [],
      "collapsed_sections": [
        "HeOU-rIOPqOh"
      ],
      "toc_visible": true,
      "machine_shape": "hm"
    },
    "kernelspec": {
      "name": "python2",
      "display_name": "Python 2"
    }
  },
  "cells": [
    {
      "cell_type": "markdown",
      "metadata": {
        "id": "1JafiSIrvEKW",
        "colab_type": "text"
      },
      "source": [
        "Welcome to Week 4!\n",
        "\n",
        "We will be focussing in Particle Physics Analysis and detecting matter/antimatter assymetries in the production of certain types of particles. ![LHCb detector](https://www1b.physik.rwth-aachen.de/~schael/LHCb_files/LHCB%20PREVIEW-white-bg.jpg)\n",
        "\n",
        "The data we are using comes from LHCb - one of the experiments at LHC. It is a highly specialised detector aimed at detecting decays involving the B-quark. Unlike the other major experiments, LHCb detects particles very close to the source and looks almost exclusively in the forward direction - this gives the detector many advantages compared to other experiments at LHC.\n",
        "\n",
        "In order to get started, we need to access the [ROOT framework](https://root.cern.ch/) and download some datafiles into this machine.\n",
        "\n",
        "Before we start - we have to use Python2 (not Python 3), so we should choose this as an option in \"Runtime\" -> \"Change Runtime Type\" at the top."
      ]
    },
    {
      "cell_type": "code",
      "metadata": {
        "id": "vFclIR72w0mU",
        "colab_type": "code",
        "outputId": "d8702466-8591-43d2-c63f-feed4b99dfee",
        "colab": {
          "base_uri": "https://localhost:8080/",
          "height": 202
        }
      },
      "source": [
        "#we are going to make a directory called APPS\n",
        "!mkdir -p APPS\n",
        "#Now we move to our directory called APPS and we download ROOT from the CERN server, this version is chosen because it runs on this machine - if you want to run this locally check the versions!\n",
        "!cd APPS && wget https://root.cern.ch/download/root_v6.13.08.Linux-ubuntu18-x86_64-gcc7.3.tar.gz \n",
        "#Now we extract our downloaded file:\n",
        "!cd APPS && tar -xf root_v6.13.08.Linux-ubuntu18-x86_64-gcc7.3.tar.gz\n"
      ],
      "execution_count": 1,
      "outputs": [
        {
          "output_type": "stream",
          "text": [
            "--2020-03-09 13:04:52--  https://root.cern.ch/download/root_v6.13.08.Linux-ubuntu18-x86_64-gcc7.3.tar.gz\n",
            "Resolving root.cern.ch (root.cern.ch)... 137.138.13.143, 2001:1458:201:45::100:b\n",
            "Connecting to root.cern.ch (root.cern.ch)|137.138.13.143|:443... connected.\n",
            "HTTP request sent, awaiting response... 200 OK\n",
            "Length: 137415272 (131M) [application/x-gzip]\n",
            "Saving to: ‘root_v6.13.08.Linux-ubuntu18-x86_64-gcc7.3.tar.gz.2’\n",
            "\n",
            "root_v6.13.08.Linux 100%[===================>] 131.05M  26.0MB/s    in 5.8s    \n",
            "\n",
            "2020-03-09 13:04:58 (22.5 MB/s) - ‘root_v6.13.08.Linux-ubuntu18-x86_64-gcc7.3.tar.gz.2’ saved [137415272/137415272]\n",
            "\n"
          ],
          "name": "stdout"
        }
      ]
    },
    {
      "cell_type": "code",
      "metadata": {
        "id": "COPyXIvbxqht",
        "colab_type": "code",
        "outputId": "0cdc4241-597e-4888-f241-44d8620690ab",
        "colab": {
          "base_uri": "https://localhost:8080/",
          "height": 34
        }
      },
      "source": [
        "#now we can extract some files from ROOT and ensure that we can access the libraries. We use some python key words to get access to the right files:\n",
        "\n",
        "import sys\n",
        "\n",
        "sys.path.append(\"/content/APPS/root/lib\")\n",
        "\n",
        "import ctypes\n",
        "\n",
        "ctypes.cdll.LoadLibrary('/content/APPS/root/lib/libCore.so')\n",
        "\n",
        "ctypes.cdll.LoadLibrary('/content/APPS/root/lib/libThread.so')\n",
        "\n",
        "ctypes.cdll.LoadLibrary('/content/APPS/root/lib/libImt.so')\n",
        "\n",
        "ctypes.cdll.LoadLibrary('/content/APPS/root/lib/libRIO.so')\n",
        "\n",
        "ctypes.cdll.LoadLibrary('/content/APPS/root/lib/libNet.so')\n",
        "\n",
        "ctypes.cdll.LoadLibrary('/content/APPS/root/lib/libTree.so')\n",
        "\n",
        "ctypes.cdll.LoadLibrary('/content/APPS/root/lib/libMathCore.so')\n",
        "\n",
        "ctypes.cdll.LoadLibrary('/content/APPS/root/lib/libMathMore.so')\n",
        "\n",
        "ctypes.cdll.LoadLibrary('/content/APPS/root/lib/libMatrix.so')\n",
        "\n",
        "ctypes.cdll.LoadLibrary('/content/APPS/root/lib/libHist.so')\n",
        "\n",
        "ctypes.cdll.LoadLibrary('/content/APPS/root/lib/libMultiProc.so')\n",
        "\n",
        "ctypes.cdll.LoadLibrary('/content/APPS/root/lib/libMinuit.so')\n",
        "\n",
        "ctypes.cdll.LoadLibrary('/content/APPS/root/lib/libFoam.so')\n",
        "\n",
        "ctypes.cdll.LoadLibrary('/content/APPS/root/lib/libGraf.so')\n",
        "\n",
        "ctypes.cdll.LoadLibrary('/content/APPS/root/lib/libGraf3d.so')"
      ],
      "execution_count": 6,
      "outputs": [
        {
          "output_type": "execute_result",
          "data": {
            "text/plain": [
              "<CDLL '/content/APPS/root/lib/libGraf3d.so', handle 55bc95231700 at 7f2f04633090>"
            ]
          },
          "metadata": {
            "tags": []
          },
          "execution_count": 6
        }
      ]
    },
    {
      "cell_type": "code",
      "metadata": {
        "id": "QTVz7NQMyDCb",
        "colab_type": "code",
        "outputId": "f65c35e1-3539-43fa-994d-50823797f6cb",
        "colab": {
          "base_uri": "https://localhost:8080/",
          "height": 589
        }
      },
      "source": [
        "#Now we can check if we have everything working as we expect: \n",
        "#Import brings the ROOT framework into our python environment.\n",
        "import ROOT\n",
        "#We define a 1 dimensional histogram, with 100 bins which ranges from -4 to +4\n",
        "h = ROOT.TH1F(\"gauss\",\"Example histogram\",100,-4,4)\n",
        "#Fill the histogram with gaussian (random) distribution\n",
        "h.FillRandom(\"gaus\")\n",
        "#make a Canvas (i.e. a drawing)\n",
        "c = ROOT.TCanvas(\"myCanvasName\",\"The Canvas Title\",800,600)\n",
        "#Draw my histogram\n",
        "h.Draw()\n",
        "#Show me the canvas\n",
        "c.Draw()\n"
      ],
      "execution_count": 5,
      "outputs": [
        {
          "output_type": "display_data",
          "data": {
            "image/png": "[encoded data removed]",
            "text/plain": [
              "<IPython.core.display.Image object>"
            ]
          },
          "metadata": {
            "tags": []
          }
        }
      ]
    },
    {
      "cell_type": "markdown",
      "metadata": {
        "id": "VXW1M6XB0tXP",
        "colab_type": "text"
      },
      "source": [
        "All being well - this should give no errors and we should have some kind of Gaussian distribution above.\n",
        "\n",
        "The next step is to get our data from CERN:"
      ]
    },
    {
      "cell_type": "code",
      "metadata": {
        "id": "owIltKHIAmfl",
        "colab_type": "code",
        "outputId": "5c124fc4-8d9c-4569-a222-dc1c3e59cdc4",
        "colab": {
          "base_uri": "https://localhost:8080/",
          "height": 202
        }
      },
      "source": [
        "!mkdir -p DATA && cd DATA  && wget http://opendata.cern.ch/record/4900/files/B2HHH_MagnetUp.root\n"
      ],
      "execution_count": 3,
      "outputs": [
        {
          "output_type": "stream",
          "text": [
            "--2020-03-09 13:05:05--  http://opendata.cern.ch/record/4900/files/B2HHH_MagnetUp.root\n",
            "Resolving opendata.cern.ch (opendata.cern.ch)... 188.185.82.144, 188.184.28.138, 188.184.93.89, ...\n",
            "Connecting to opendata.cern.ch (opendata.cern.ch)|188.185.82.144|:80... connected.\n",
            "HTTP request sent, awaiting response... 200 OK\n",
            "Length: 444723234 (424M) [application/octet-stream]\n",
            "Saving to: ‘B2HHH_MagnetUp.root.1’\n",
            "\n",
            "B2HHH_MagnetUp.root 100%[===================>] 424.12M  21.5MB/s    in 24s     \n",
            "\n",
            "2020-03-09 13:05:29 (17.5 MB/s) - ‘B2HHH_MagnetUp.root.1’ saved [444723234/444723234]\n",
            "\n"
          ],
          "name": "stdout"
        }
      ]
    },
    {
      "cell_type": "code",
      "metadata": {
        "id": "t2rMoSt7gbd2",
        "colab_type": "code",
        "colab": {}
      },
      "source": [
        "# !strace python -c 'import ROOT; ROOT.kRed' |& grep libMathCore.so\n",
        "# ! locate libTreePlayer.so\n",
        "# ! sudo rmdir APPS\n",
        "# ! rm -r APPS/root\n",
        "# ! rmdir APPS"
      ],
      "execution_count": 0,
      "outputs": []
    },
    {
      "cell_type": "code",
      "metadata": {
        "id": "pcVkEQJmDHfq",
        "colab_type": "code",
        "colab": {}
      },
      "source": [
        "# since root is useless for the kind of data analysis we want\n",
        "!pip install root_pandas\n",
        "# !pip install root_numpy \n",
        "# import root_pandas\n",
        "# import root_numpy"
      ],
      "execution_count": 0,
      "outputs": []
    },
    {
      "cell_type": "code",
      "metadata": {
        "id": "Co476pbmBvBB",
        "colab_type": "code",
        "outputId": "450e0695-c2b3-4928-88fc-3d47f7917e3f",
        "colab": {
          "base_uri": "https://localhost:8080/",
          "height": 506
        }
      },
      "source": [
        "#Since we need to use ROOT, we must first import this into Python:\n",
        "import ROOT\n",
        "# import root_pandas\n",
        "#Then we open the ROOT file using the TFile command.\n",
        "f = ROOT.TFile.Open(\"DATA/B2HHH_MagnetUp.root\", \"READONLY\")\n",
        "# df = root_pandas.read_root(\"DATA/B2HHH_MagnetUp.root\")\n",
        "#From our file, we have to extract the DecayTree \n",
        "tree=f.Get(\"DecayTree\")\n",
        "#Now we can grab some variables as a test:\n",
        "ymomentum = ROOT.RooRealVar(\"H1_PY\",\"H1 Y Momentum\",0,10000,\"MeV/c\")\n",
        "xmomentum = ROOT.RooRealVar(\"H1_PX\",\"H1 X Momentum\",0,10000,\"MeV/c\")\n",
        "zmomentum = ROOT.RooRealVar(\"H1_PZ\",\"H1 Z Momentum\",0,10000,\"MeV/c\")\n",
        "# We then create a dataset for us to play with\n",
        "data = ROOT.RooDataSet(\"data\",\"data set\", tree, ROOT.RooArgSet(xmomentum,ymomentum,zmomentum), \"1==1\")\n",
        "# Now we create a canvas, plot our data onto the canvas and draw it:\n",
        "c = ROOT.TCanvas(\"c\",\"c\")\n",
        "frame = xmomentum.frame()\n",
        "data.plotOn(frame)\n",
        "frame.Draw()\n",
        "c.Draw()"
      ],
      "execution_count": 4,
      "outputs": [
        {
          "output_type": "stream",
          "text": [
            "Welcome to JupyROOT 6.13/08\n"
          ],
          "name": "stdout"
        },
        {
          "output_type": "display_data",
          "data": {
            "image/png": "[encoded data removed]",
            "text/plain": [
              "<IPython.core.display.Image object>"
            ]
          },
          "metadata": {
            "tags": []
          }
        }
      ]
    },
    {
      "cell_type": "markdown",
      "metadata": {
        "id": "4e4n4iS3IJZi",
        "colab_type": "text"
      },
      "source": [
        "#Why are we here?\n",
        "\n",
        "This week is about finding out something about one of the fundemental questions in physics. Why do we have \"stuff\".\n",
        "\n",
        "According to many of our models, and according to many measurements in particle physics, matter and anti-matter appear to be produced in equal quantities.\n",
        "\n",
        "However, when one looks at the Universe in general, we have more matter than anti-matter left - so there need to be some processes where anti-matter and matter are not produced equally. You can find out more about the Matter/Anti-Matter Asymmetry [here](http://press.web.cern.ch/backgrounders/matterantimatter-asymmetry)\n",
        "\n",
        "One place we look for this asymetry is in [charge-partity (CP) violation](https://www.symmetrymagazine.org/article/october-2005/explain-it-in-60-seconds) in particle physics processes. This essentially says that the processes that happen in the anti-particle version of a decay do not **exactly** match to the processes that happen in the particle version of the decay.\n",
        "\n",
        "\n",
        "\n",
        "---\n",
        "\n",
        "\n",
        "\n",
        "At LHCb, we produce both particle of the  B<sup>+</sup> meson and it's antiparticle the B<sup>-</sup> meson.\n",
        "\n",
        "We cannot detect these mesons directly. They decay into other things before we have a chance to measure them properly. So we collect data on the decay products, often called daughter particles. There are 524 [documented](http://pdg.lbl.gov/2014/listings/rpp2014-list-B-plus-minus.pdf) ways that the B<sup>+/-</sup> decays into various combinations. In order to simplify the process, we choose decay combinations that are convenient or have particular properties.\n",
        "\n",
        "In this analysis, we will take the process:-\n",
        "\n",
        "B<sup>+</sup>->K<sup>+</sup> + K<sup>+</sup>  + K<sup>-</sup>\n",
        "\n",
        "or\n",
        "\n",
        "B<sup>-</sup>->K<sup>-</sup> + K<sup>-</sup>  + K<sup>+</sup>\n",
        "\n",
        "\n",
        "To do so, we are given the following data for each event in our system:-\n",
        "\n",
        "![alt text](https://raw.githubusercontent.com/lhcb/opendata-project/80d64a3796e593fc8f9b257e85f32ae2e54f131f/Images/Variables.png)\n",
        "\n",
        "Here, H1 is the detected daughter particle (so a Kaon or a Pion), **not** the B-meson - the mother particle. We have to use some detective work to extract the information we need on the original physics process at play.\n",
        "\n",
        "\n",
        "Let's get started with working with this data:"
      ]
    },
    {
      "cell_type": "markdown",
      "metadata": {
        "id": "LOhfj7kfP-ao",
        "colab_type": "text"
      },
      "source": [
        "For our analysis, the momentum of each of the daughter particles is split into the three cartesian components. We need to first combine this into a single measurement"
      ]
    },
    {
      "cell_type": "markdown",
      "metadata": {
        "id": "C1lXLMCoR1Gi",
        "colab_type": "text"
      },
      "source": [
        "Now plot the total momentum for one (or more) of the daughter particles."
      ]
    },
    {
      "cell_type": "code",
      "metadata": {
        "id": "DelO-XfyZxE4",
        "colab_type": "code",
        "colab": {}
      },
      "source": [
        "################### HELPER FUNCTIONS #################################\n",
        "\n",
        "c = 299792458\n",
        "mass = 493.677\n",
        "\n",
        "def get_daughter_momentum(daughter):\n",
        "  p = \"sqrt((\"+daughter+\"_PX)**2+ (\"+daughter+\"_PY)**2 + (\"+daughter+\"_PZ)**2)\" #do we add daughter to momentum just to specify the momentum of which particle we need to take into account\n",
        "  return p  \n",
        "\n",
        "#let's make a function to find the energy of a Kaon, if you add in the total momentum found in the previous steps - you should be able to do so reasonably easily\n",
        "def get_energy(daughter):\n",
        "  e = \"sqrt(\"+get_daughter_momentum(daughter)+\"**2+\"+str(mass)+\"**2)\"\n",
        "  return e\n",
        "\n",
        "def get_mother_momentum():\n",
        "  X = \"H1_PX+\"+\"H2_PX+\"+\"H3_PX\"\n",
        "  Y = \"H1_PY+\"+\"H2_PY+\"+\"H3_PY\"\n",
        "  Z = \"H1_PZ+\"+\"H2_PZ+\"+\"H3_PZ\"\n",
        "  p =\"(sqrt(\"+X+\"**2+\"+Y+\"**2+\"+Z+\"**2))\"\n",
        "  return p\n",
        "\n",
        "def get_mother_energy():\n",
        "  e = get_energy('H1')+\"+\"+get_energy('H2')+\"+\"+get_energy('H3')\n",
        "  return e\n",
        "\n",
        "\n",
        "def get_mass():\n",
        "  return \"sqrt(\"+get_mother_energy()+\"**2-\"+get_mother_momentum()+\"**2)\"\n"
      ],
      "execution_count": 0,
      "outputs": []
    },
    {
      "cell_type": "markdown",
      "metadata": {
        "id": "HeOU-rIOPqOh",
        "colab_type": "text"
      },
      "source": [
        "#Graphs"
      ]
    },
    {
      "cell_type": "code",
      "metadata": {
        "id": "2CVh9z2pcGmf",
        "colab_type": "code",
        "colab": {}
      },
      "source": [
        "\n",
        "# tree.Draw(get_daughter_momentum('H1')+\">>histogram(100,400,600)\")\n",
        "# tree.Draw(get_energy('H1')+\">>histogram(100,400,600)\")\n",
        "# # tree.Draw(get_mass()+\">>histogram(100,400,600)\")\n",
        "# tree.Draw(get_mother_momentum()+\">>histogram(100,400,600)\")\n",
        "# tree.Draw(get_mother_energy()+\">>histogram(100,400,600)\")"
      ],
      "execution_count": 0,
      "outputs": []
    },
    {
      "cell_type": "code",
      "metadata": {
        "colab_type": "code",
        "id": "-LVdW6CNBVkX",
        "cellView": "code",
        "outputId": "7c5ae577-ab65-4c93-fad4-22f2fdecd6e8",
        "colab": {
          "base_uri": "https://localhost:8080/",
          "height": 589
        }
      },
      "source": [
        "# To use ROOT at least a little bit, we must first import this into Python:\n",
        "import ROOT\n",
        "#Then we open the ROOT file using the TFile command.\n",
        "f = ROOT.TFile.Open(\"DATA/B2HHH_MagnetUp.root\", \"READONLY\")\n",
        "#From our file, we have to extract the DecayTree \n",
        "tree=f.Get(\"DecayTree\")\n",
        "# Now we create a canvas, plot our data onto the canvas and draw it:\n",
        "c = ROOT.TCanvas(\"myCanvasName\",\"The Canvas Title\",800,600)\n",
        "#This string (below) is the total momentum of the H1 particle\n",
        "tree.Draw(get_daughter_momentum('H1')+\">>histogram1(200,-1000,200000)\")\n",
        "#tree.Draw(\"sqrt((H1_PX**2)+(H1_PY**2)+(H1_PZ**2))+>>histogram1,100\")\n",
        "histogram1 = ROOT.gDirectory.Get(\"histogram1\")\n",
        "#histogram1.Draw()\n",
        "#Show me the canvas\n",
        "c.Draw()"
      ],
      "execution_count": 0,
      "outputs": [
        {
          "output_type": "display_data",
          "data": {
            "image/png": "[encoded data removed]",
            "text/plain": [
              "<IPython.core.display.Image object>"
            ]
          },
          "metadata": {
            "tags": []
          }
        }
      ]
    },
    {
      "cell_type": "code",
      "metadata": {
        "id": "g1UzUTXuEcdZ",
        "colab_type": "code",
        "colab": {}
      },
      "source": [
        "# let's repeat the same step for the next particle\n",
        "import ROOT\n",
        "f = ROOT.TFile.Open(\"DATA/B2HHH_MagnetUp.root\", \"READONLY\")\n",
        "tree=f.Get(\"DecayTree\")\n",
        "c = ROOT.TCanvas(\"myCanvasName\",\"The Canvas Title\",800,600)\n",
        "tree.Draw(get_daughter_momentum('H2')+\">>histogram1(200,0,120000)\")\n",
        "c.Draw()"
      ],
      "execution_count": 0,
      "outputs": []
    },
    {
      "cell_type": "code",
      "metadata": {
        "id": "RunF9AXyEfsi",
        "colab_type": "code",
        "colab": {}
      },
      "source": [
        "#Now for the third\n",
        "import ROOT\n",
        "f = ROOT.TFile.Open(\"DATA/B2HHH_MagnetUp.root\", \"READONLY\")\n",
        "tree=f.Get(\"DecayTree\")\n",
        "c = ROOT.TCanvas(\"myCanvasName\",\"The Canvas Title\",800,600)\n",
        "tree.Draw(get_daughter_momentum('H3')+\">>histogram1(200,-10000,400000)\")\n",
        "print(tree.Branch(\"sqrt(H3_PX**2+H3_PY**2+H3_PZ**2)\"))\n",
        "histogram1 = ROOT.gDirectory.Get(\"histogram1\")\n",
        "c.Draw()"
      ],
      "execution_count": 0,
      "outputs": []
    },
    {
      "cell_type": "code",
      "metadata": {
        "id": "1PSmaogDGgza",
        "colab_type": "code",
        "colab": {}
      },
      "source": [
        "# now we'll look the the combined momenta\n",
        "import ROOT\n",
        "f = ROOT.TFile.Open(\"DATA/B2HHH_MagnetUp.root\", \"READONLY\")\n",
        "tree=f.Get(\"DecayTree\")\n",
        "c = ROOT.TCanvas(\"myCanvasName\",\"The Canvas Title\",800,600)\n",
        "tree.Draw(get_daughter_momentum('H1')+\"+\"+get_daughter_momentum('H1')+\"+\"+get_daughter_momentum('H1')+\">>histogram1(200,-10000,400000)\")\n",
        "histogram1 = ROOT.gDirectory.Get(\"histogram1\")\n",
        "c.Draw()"
      ],
      "execution_count": 0,
      "outputs": []
    },
    {
      "cell_type": "markdown",
      "metadata": {
        "id": "Gj5qv5kqSMIF",
        "colab_type": "text"
      },
      "source": [
        "The next step is to use the total momentum of the Kaon and its invarient mass (found with a small amount of research) and your relativity knowledge to get an equation for the energy of the Kaon. "
      ]
    },
    {
      "cell_type": "code",
      "metadata": {
        "id": "QMkih_6SSG8I",
        "colab_type": "code",
        "colab": {}
      },
      "source": [
        "#Calculate the energy of the B meson, using the conservation of energy - just combine the energies to give a total\n",
        "c = ROOT.TCanvas(\"myCanvasName\",\"The Canvas Title\",800,600)\n",
        "tree.Draw(get_energy(\"H1\")+\">>histogram(100,0,100000)\")\n",
        "histogram1 = ROOT.gDirectory.Get(\"histogram1\")\n",
        "c.Draw()"
      ],
      "execution_count": 0,
      "outputs": []
    },
    {
      "cell_type": "markdown",
      "metadata": {
        "id": "w3sqwtNTUEJd",
        "colab_type": "text"
      },
      "source": [
        "We have now completed the initial steps and begun to work through what we need to with the data. This workflow is divided into 4 stages, just for easier viewing and comprehension."
      ]
    },
    {
      "cell_type": "code",
      "metadata": {
        "id": "I5nSlrrSO_5F",
        "colab_type": "code",
        "colab": {}
      },
      "source": [
        "#Calculate the momentum of the B meson. To do this, you need to first combine all the x momenta of the daughters,\n",
        "#to get a total x momentum of the mother; then you can combine your three momenta into total momentum\n",
        "\n",
        "# Now we create a canvas, plot our data onto the canvas and draw it:\n",
        "c = ROOT.TCanvas(\"myCanvasName\",\"The Canvas Title\",800,600)\n",
        "tree.Draw(get_mother_momentum()+\">>histogram1(200,-10000,400000)\")\n",
        "histogram1 = ROOT.gDirectory.Get(\"histogram1\")\n",
        "c.Draw()"
      ],
      "execution_count": 0,
      "outputs": []
    },
    {
      "cell_type": "code",
      "metadata": {
        "id": "Nd4V2zbcxuSz",
        "colab_type": "code",
        "colab": {
          "base_uri": "https://localhost:8080/",
          "height": 1000
        },
        "outputId": "9ed0b25a-6221-47cb-ae05-e59eeaeff6b6"
      },
      "source": [
        "#Use the energy of the B meson and momentum of the B meson as inputs and\n",
        "#calculate the mass of the B meson (Found by analysis of the daughter products)\n",
        "\n",
        "d=(ROOT.TCanvas(\"myCanvasName\",\"The Canvas Title\",800,600))\n",
        "tree.Draw(get_mass()+\">>histogram(100,400,600)\")\n",
        "mass_histogram = ROOT.gDirectory.Get(\"histogram\")\n",
        "d.Draw()"
      ],
      "execution_count": 30,
      "outputs": [
        {
          "output_type": "stream",
          "text": [
            " file probably overwritten: stopping reporting error messages\n"
          ],
          "name": "stdout"
        },
        {
          "output_type": "stream",
          "text": [
            "Warning in <TCanvas::Constructor>: Deleting canvas with same name: myCanvasName\n",
            "Error R__unzip_header: error in header.  Values: 3f89\n",
            "Error in <TBasket::ReadBasketBuffers>: Inconsistency found in header (nin=0, nbuf=0)\n",
            "Error R__unzip_header: error in header.  Values: 00\n",
            "Error in <TBasket::ReadBasketBuffers>: Inconsistency found in header (nin=0, nbuf=0)\n",
            "Error in <TBasket::Streamer>: The value of fNbytes is incorrect (-14174892) ; trying to recover by setting it to zero\n",
            "Error in <TBasket::TBasket::Streamer>: The value of fNevBufSize (-1539340958) or fIOBits (153) is incorrect ; setting the buffer to a zombie.\n",
            "tcmalloc: large alloc 1823457280 bytes == 0x55bcbdf0c000 @  0x7f2f37052887 0x7f2f1387a65b 0x7f2f12b00d89 0x7f2f12afcf69 0x7f2f124818f7 0x7f2f124803ac 0x7f2f1248638b 0x7f2f12486c40 0x7f2f01e2cb0c 0x7f2f01e09c44 0x7f2f01e40107 0x7f2f01e40dc6 0x7f2f0180d034 0x7f2f104a19bb 0x7f2f104a54b8 0x7f2f104ca7d5 0x7f2f104c9cb8 0x7f2f104ac1f9 0x55bc817a8e00 0x55bc817a161a 0x55bc817a6f5d 0x55bc817a161a 0x55bc817a8ffe 0x55bc817a161a 0x55bc817a8ffe 0x55bc817a161a 0x55bc817bd7cc 0x55bc8178ce9e 0x55bc817a5f96 0x55bc817a161a 0x55bc817a9612\n",
            "Error in <TBranch::GetBasket>: File: DATA/B2HHH_MagnetUp.root at byte:-3497900633606796310, branch:H1_PZ, entry:0, badread=1, nerrors=1, basketnumber=0\n",
            "Error R__unzip_header: error in header.  Values: 3fd0\n",
            "Error in <TBasket::ReadBasketBuffers>: Inconsistency found in header (nin=0, nbuf=0)\n",
            "Error R__unzip_header: error in header.  Values: ffff\n",
            "Error in <TBasket::ReadBasketBuffers>: Inconsistency found in header (nin=0, nbuf=0)\n",
            "tcmalloc: large alloc 6862053376 bytes == 0x55bd2aa08000 @  0x7f2f37052887 0x7f2f1248159d 0x7f2f124803ac 0x7f2f1248638b 0x7f2f12486c40 0x7f2f01e2cb0c 0x7f2f01e09c44 0x7f2f01e40107 0x7f2f01e40dc6 0x7f2f0180d034 0x7f2f104a19bb 0x7f2f104a54b8 0x7f2f104ca7d5 0x7f2f104c9cb8 0x7f2f104ac1f9 0x55bc817a8e00 0x55bc817a161a 0x55bc817a6f5d 0x55bc817a161a 0x55bc817a8ffe 0x55bc817a161a 0x55bc817a8ffe 0x55bc817a161a 0x55bc817bd7cc 0x55bc8178ce9e 0x55bc817a5f96 0x55bc817a161a 0x55bc817a9612 0x55bc817a161a 0x55bc817a8ffe 0x55bc817a161a\n",
            "tcmalloc: large alloc 1680449536 bytes == 0x55bec4232000 @  0x7f2f37052887 0x7f2f138c1dd8 0x7f2f1387a25e 0x7f2f12480414 0x7f2f1248638b 0x7f2f12486c40 0x7f2f01e2cb0c 0x7f2f01e09c44 0x7f2f01e40107 0x7f2f01e40dc6 0x7f2f0180d034 0x7f2f104a19bb 0x7f2f104a54b8 0x7f2f104ca7d5 0x7f2f104c9cb8 0x7f2f104ac1f9 0x55bc817a8e00 0x55bc817a161a 0x55bc817a6f5d 0x55bc817a161a 0x55bc817a8ffe 0x55bc817a161a 0x55bc817a8ffe 0x55bc817a161a 0x55bc817bd7cc 0x55bc8178ce9e 0x55bc817a5f96 0x55bc817a161a 0x55bc817a9612 0x55bc817a161a 0x55bc817a8ffe\n",
            "Error in <TBranch::GetBasket>: File: DATA/B2HHH_MagnetUp.root at byte:4658780155792489892, branch:H2_PZ, entry:0, badread=0, nerrors=2, basketnumber=0\n",
            "Error in <TBasket::Streamer>: The value of fKeylen is incorrect (-23506) ; trying to recover by setting it to zero\n",
            "Error in <TBasket::Streamer>: The value of fObjlen is incorrect (-1970978596) ; trying to recover by setting it to zero\n",
            "Error in <TBranch::GetBasket>: File: DATA/B2HHH_MagnetUp.root at byte:8634640680282308837, branch:H3_PX, entry:0, badread=1, nerrors=3, basketnumber=0\n",
            "Error in <TBasket::Streamer>: The value of fNbytes is incorrect (-65536) ; trying to recover by setting it to zero\n",
            "Error in <TBasket::TBasket::Streamer>: The value of fNevBufSize (-256) or fIOBits (0) is incorrect ; setting the buffer to a zombie.\n",
            "Error in <TBranch::GetBasket>: File: DATA/B2HHH_MagnetUp.root at byte:4294967295, branch:H3_PY, entry:0, badread=1, nerrors=4, basketnumber=0\n",
            "Error in <TBasket::Streamer>: The value of fKeylen is incorrect (-16527) ; trying to recover by setting it to zero\n",
            "Error in <TBasket::Streamer>: The value of fObjlen is incorrect (-1083098893) ; trying to recover by setting it to zero\n",
            "Error in <TBasket::Streamer>: The value of fNbytes is incorrect (-1297301354) ; trying to recover by setting it to zero\n",
            "Error in <TBranch::GetBasket>: File: DATA/B2HHH_MagnetUp.root at byte:3232584669, branch:H3_PZ, entry:0, badread=1, nerrors=5, basketnumber=0\n",
            "Error in <TBasket::Streamer>: The value of fNbytes is incorrect (-14174892) ; trying to recover by setting it to zero\n",
            "Error in <TBasket::TBasket::Streamer>: The value of fNevBufSize (-1539340958) or fIOBits (153) is incorrect ; setting the buffer to a zombie.\n",
            "tcmalloc: large alloc 1823457280 bytes == 0x55bf68e92000 @  0x7f2f37052887 0x7f2f1387a65b 0x7f2f12b00d89 0x7f2f12afcf69 0x7f2f124818f7 0x7f2f124803ac 0x7f2f1248638b 0x7f2f12486c40 0x7f2f01e2cb0c 0x7f2f01e09c44 0x7f2f01e40107 0x7f2f01e40dc6 0x7f2f0180d034 0x7f2f104a19bb 0x7f2f104a54b8 0x7f2f104ca7d5 0x7f2f104c9cb8 0x7f2f104ac1f9 0x55bc817a8e00 0x55bc817a161a 0x55bc817a6f5d 0x55bc817a161a 0x55bc817a8ffe 0x55bc817a161a 0x55bc817a8ffe 0x55bc817a161a 0x55bc817bd7cc 0x55bc8178ce9e 0x55bc817a5f96 0x55bc817a161a 0x55bc817a9612\n",
            "Error in <TBranch::GetBasket>: File: DATA/B2HHH_MagnetUp.root at byte:-3497900633606796310, branch:H1_PZ, entry:1, badread=1, nerrors=6, basketnumber=0\n",
            "tcmalloc: large alloc 6862053376 bytes == 0x55bfd598e000 @  0x7f2f37052887 0x7f2f1248159d 0x7f2f124803ac 0x7f2f1248638b 0x7f2f12486c40 0x7f2f01e2cb0c 0x7f2f01e09c44 0x7f2f01e40107 0x7f2f01e40dc6 0x7f2f0180d034 0x7f2f104a19bb 0x7f2f104a54b8 0x7f2f104ca7d5 0x7f2f104c9cb8 0x7f2f104ac1f9 0x55bc817a8e00 0x55bc817a161a 0x55bc817a6f5d 0x55bc817a161a 0x55bc817a8ffe 0x55bc817a161a 0x55bc817a8ffe 0x55bc817a161a 0x55bc817bd7cc 0x55bc8178ce9e 0x55bc817a5f96 0x55bc817a161a 0x55bc817a9612 0x55bc817a161a 0x55bc817a8ffe 0x55bc817a161a\n",
            "Error in <TBranch::GetBasket>: File: DATA/B2HHH_MagnetUp.root at byte:4658780155792489892, branch:H2_PZ, entry:1, badread=0, nerrors=7, basketnumber=0\n",
            "Error in <TBasket::Streamer>: The value of fKeylen is incorrect (-23506) ; trying to recover by setting it to zero\n",
            "Error in <TBasket::Streamer>: The value of fObjlen is incorrect (-1970978596) ; trying to recover by setting it to zero\n",
            "Error in <TBranch::GetBasket>: File: DATA/B2HHH_MagnetUp.root at byte:8634640680282308837, branch:H3_PX, entry:1, badread=1, nerrors=8, basketnumber=0\n",
            "Error in <TBasket::Streamer>: The value of fNbytes is incorrect (-65536) ; trying to recover by setting it to zero\n",
            "Error in <TBasket::TBasket::Streamer>: The value of fNevBufSize (-256) or fIOBits (0) is incorrect ; setting the buffer to a zombie.\n",
            "Error in <TBranch::GetBasket>: File: DATA/B2HHH_MagnetUp.root at byte:4294967295, branch:H3_PY, entry:1, badread=1, nerrors=9, basketnumber=0\n",
            "Error in <TBasket::Streamer>: The value of fKeylen is incorrect (-16527) ; trying to recover by setting it to zero\n",
            "Error in <TBasket::Streamer>: The value of fObjlen is incorrect (-1083098893) ; trying to recover by setting it to zero\n",
            "Error in <TBasket::Streamer>: The value of fNbytes is incorrect (-1297301354) ; trying to recover by setting it to zero\n",
            "Error in <TBranch::GetBasket>: File: DATA/B2HHH_MagnetUp.root at byte:3232584669, branch:H3_PZ, entry:1, badread=1, nerrors=10, basketnumber=0\n",
            "Error in <TBasket::Streamer>: The value of fNbytes is incorrect (-14174892) ; trying to recover by setting it to zero\n",
            "Error in <TBasket::TBasket::Streamer>: The value of fNevBufSize (-1539340958) or fIOBits (153) is incorrect ; setting the buffer to a zombie.\n",
            "tcmalloc: large alloc 6862053376 bytes == 0x55c281114000 @  0x7f2f37052887 0x7f2f1248159d 0x7f2f124803ac 0x7f2f1248638b 0x7f2f12486c40 0x7f2f01e2cb0c 0x7f2f01e09c44 0x7f2f01e40107 0x7f2f01e40dc6 0x7f2f0180d034 0x7f2f104a19bb 0x7f2f104a54b8 0x7f2f104ca7d5 0x7f2f104c9cb8 0x7f2f104ac1f9 0x55bc817a8e00 0x55bc817a161a 0x55bc817a6f5d 0x55bc817a161a 0x55bc817a8ffe 0x55bc817a161a 0x55bc817a8ffe 0x55bc817a161a 0x55bc817bd7cc 0x55bc8178ce9e 0x55bc817a5f96 0x55bc817a161a 0x55bc817a9612 0x55bc817a161a 0x55bc817a8ffe 0x55bc817a161a\n",
            "Error in <TBasket::Streamer>: The value of fKeylen is incorrect (-23506) ; trying to recover by setting it to zero\n",
            "Error in <TBasket::Streamer>: The value of fObjlen is incorrect (-1970978596) ; trying to recover by setting it to zero\n",
            "Error in <TBasket::Streamer>: The value of fNbytes is incorrect (-65536) ; trying to recover by setting it to zero\n",
            "Error in <TBasket::TBasket::Streamer>: The value of fNevBufSize (-256) or fIOBits (0) is incorrect ; setting the buffer to a zombie.\n",
            "Error in <TBasket::Streamer>: The value of fKeylen is incorrect (-16527) ; trying to recover by setting it to zero\n",
            "Error in <TBasket::Streamer>: The value of fObjlen is incorrect (-1083098893) ; trying to recover by setting it to zero\n",
            "Error in <TBasket::Streamer>: The value of fNbytes is incorrect (-1297301354) ; trying to recover by setting it to zero\n",
            "Error in <TBasket::Streamer>: The value of fNbytes is incorrect (-14174892) ; trying to recover by setting it to zero\n",
            "Error in <TBasket::TBasket::Streamer>: The value of fNevBufSize (-1539340958) or fIOBits (153) is incorrect ; setting the buffer to a zombie.\n",
            "tcmalloc: large alloc 6862053376 bytes == 0x55c52c09a000 @  0x7f2f37052887 0x7f2f1248159d 0x7f2f124803ac 0x7f2f1248638b 0x7f2f12486c40 0x7f2f01e2cb0c 0x7f2f01e09c44 0x7f2f01e40107 0x7f2f01e40dc6 0x7f2f0180d034 0x7f2f104a19bb 0x7f2f104a54b8 0x7f2f104ca7d5 0x7f2f104c9cb8 0x7f2f104ac1f9 0x55bc817a8e00 0x55bc817a161a 0x55bc817a6f5d 0x55bc817a161a 0x55bc817a8ffe 0x55bc817a161a 0x55bc817a8ffe 0x55bc817a161a 0x55bc817bd7cc 0x55bc8178ce9e 0x55bc817a5f96 0x55bc817a161a 0x55bc817a9612 0x55bc817a161a 0x55bc817a8ffe 0x55bc817a161a\n",
            "Error in <TBasket::Streamer>: The value of fKeylen is incorrect (-23506) ; trying to recover by setting it to zero\n",
            "Error in <TBasket::Streamer>: The value of fObjlen is incorrect (-1970978596) ; trying to recover by setting it to zero\n",
            "Error in <TBasket::Streamer>: The value of fNbytes is incorrect (-65536) ; trying to recover by setting it to zero\n",
            "Error in <TBasket::TBasket::Streamer>: The value of fNevBufSize (-256) or fIOBits (0) is incorrect ; setting the buffer to a zombie.\n",
            "Error in <TBasket::Streamer>: The value of fKeylen is incorrect (-16527) ; trying to recover by setting it to zero\n",
            "Error in <TBasket::Streamer>: The value of fObjlen is incorrect (-1083098893) ; trying to recover by setting it to zero\n",
            "Error in <TBasket::Streamer>: The value of fNbytes is incorrect (-1297301354) ; trying to recover by setting it to zero\n",
            "Error in <TBasket::Streamer>: The value of fNbytes is incorrect (-14174892) ; trying to recover by setting it to zero\n",
            "Error in <TBasket::TBasket::Streamer>: The value of fNevBufSize (-1539340958) or fIOBits (153) is incorrect ; setting the buffer to a zombie.\n",
            "tcmalloc: large alloc 6862053376 bytes == 0x55c7d7020000 @  0x7f2f37052887 0x7f2f1248159d 0x7f2f124803ac 0x7f2f1248638b 0x7f2f12486c40 0x7f2f01e2cb0c 0x7f2f01e09c44 0x7f2f01e40107 0x7f2f01e40dc6 0x7f2f0180d034 0x7f2f104a19bb 0x7f2f104a54b8 0x7f2f104ca7d5 0x7f2f104c9cb8 0x7f2f104ac1f9 0x55bc817a8e00 0x55bc817a161a 0x55bc817a6f5d 0x55bc817a161a 0x55bc817a8ffe 0x55bc817a161a 0x55bc817a8ffe 0x55bc817a161a 0x55bc817bd7cc 0x55bc8178ce9e 0x55bc817a5f96 0x55bc817a161a 0x55bc817a9612 0x55bc817a161a 0x55bc817a8ffe 0x55bc817a161a\n",
            "Error in <TBasket::Streamer>: The value of fKeylen is incorrect (-23506) ; trying to recover by setting it to zero\n",
            "Error in <TBasket::Streamer>: The value of fObjlen is incorrect (-1970978596) ; trying to recover by setting it to zero\n",
            "Error in <TBasket::Streamer>: The value of fNbytes is incorrect (-65536) ; trying to recover by setting it to zero\n",
            "Error in <TBasket::TBasket::Streamer>: The value of fNevBufSize (-256) or fIOBits (0) is incorrect ; setting the buffer to a zombie.\n",
            "Error in <TBasket::Streamer>: The value of fKeylen is incorrect (-16527) ; trying to recover by setting it to zero\n",
            "Error in <TBasket::Streamer>: The value of fObjlen is incorrect (-1083098893) ; trying to recover by setting it to zero\n",
            "Error in <TBasket::Streamer>: The value of fNbytes is incorrect (-1297301354) ; trying to recover by setting it to zero\n",
            "Error in <TBasket::Streamer>: The value of fNbytes is incorrect (-14174892) ; trying to recover by setting it to zero\n",
            "Error in <TBasket::TBasket::Streamer>: The value of fNevBufSize (-1539340958) or fIOBits (153) is incorrect ; setting the buffer to a zombie.\n",
            "tcmalloc: large alloc 6862053376 bytes == 0x55ca827a6000 @  0x7f2f37052887 0x7f2f1248159d 0x7f2f124803ac 0x7f2f1248638b 0x7f2f12486c40 0x7f2f01e2cb0c 0x7f2f01e09c44 0x7f2f01e40107 0x7f2f01e40dc6 0x7f2f0180d034 0x7f2f104a19bb 0x7f2f104a54b8 0x7f2f104ca7d5 0x7f2f104c9cb8 0x7f2f104ac1f9 0x55bc817a8e00 0x55bc817a161a 0x55bc817a6f5d 0x55bc817a161a 0x55bc817a8ffe 0x55bc817a161a 0x55bc817a8ffe 0x55bc817a161a 0x55bc817bd7cc 0x55bc8178ce9e 0x55bc817a5f96 0x55bc817a161a 0x55bc817a9612 0x55bc817a161a 0x55bc817a8ffe 0x55bc817a161a\n",
            "Error in <TBasket::Streamer>: The value of fKeylen is incorrect (-23506) ; trying to recover by setting it to zero\n",
            "Error in <TBasket::Streamer>: The value of fObjlen is incorrect (-1970978596) ; trying to recover by setting it to zero\n",
            "Error in <TBasket::Streamer>: The value of fNbytes is incorrect (-65536) ; trying to recover by setting it to zero\n",
            "Error in <TBasket::TBasket::Streamer>: The value of fNevBufSize (-256) or fIOBits (0) is incorrect ; setting the buffer to a zombie.\n",
            "Error in <TBasket::Streamer>: The value of fKeylen is incorrect (-16527) ; trying to recover by setting it to zero\n",
            "Error in <TBasket::Streamer>: The value of fObjlen is incorrect (-1083098893) ; trying to recover by setting it to zero\n",
            "Error in <TBasket::Streamer>: The value of fNbytes is incorrect (-1297301354) ; trying to recover by setting it to zero\n",
            "Error in <TBasket::Streamer>: The value of fNbytes is incorrect (-14174892) ; trying to recover by setting it to zero\n",
            "Error in <TBasket::TBasket::Streamer>: The value of fNevBufSize (-1539340958) or fIOBits (153) is incorrect ; setting the buffer to a zombie.\n",
            "tcmalloc: large alloc 6862053376 bytes == 0x55cd2d72c000 @  0x7f2f37052887 0x7f2f1248159d 0x7f2f124803ac 0x7f2f1248638b 0x7f2f12486c40 0x7f2f01e2cb0c 0x7f2f01e09c44 0x7f2f01e40107 0x7f2f01e40dc6 0x7f2f0180d034 0x7f2f104a19bb 0x7f2f104a54b8 0x7f2f104ca7d5 0x7f2f104c9cb8 0x7f2f104ac1f9 0x55bc817a8e00 0x55bc817a161a 0x55bc817a6f5d 0x55bc817a161a 0x55bc817a8ffe 0x55bc817a161a 0x55bc817a8ffe 0x55bc817a161a 0x55bc817bd7cc 0x55bc8178ce9e 0x55bc817a5f96 0x55bc817a161a 0x55bc817a9612 0x55bc817a161a 0x55bc817a8ffe 0x55bc817a161a\n",
            "Error in <TBasket::Streamer>: The value of fKeylen is incorrect (-23506) ; trying to recover by setting it to zero\n",
            "Error in <TBasket::Streamer>: The value of fObjlen is incorrect (-1970978596) ; trying to recover by setting it to zero\n",
            "Error in <TBasket::Streamer>: The value of fNbytes is incorrect (-65536) ; trying to recover by setting it to zero\n",
            "Error in <TBasket::TBasket::Streamer>: The value of fNevBufSize (-256) or fIOBits (0) is incorrect ; setting the buffer to a zombie.\n",
            "Error in <TBasket::Streamer>: The value of fKeylen is incorrect (-16527) ; trying to recover by setting it to zero\n",
            "Error in <TBasket::Streamer>: The value of fObjlen is incorrect (-1083098893) ; trying to recover by setting it to zero\n",
            "Error in <TBasket::Streamer>: The value of fNbytes is incorrect (-1297301354) ; trying to recover by setting it to zero\n",
            "Error in <TBasket::Streamer>: The value of fNbytes is incorrect (-14174892) ; trying to recover by setting it to zero\n",
            "Error in <TBasket::TBasket::Streamer>: The value of fNevBufSize (-1539340958) or fIOBits (153) is incorrect ; setting the buffer to a zombie.\n",
            "tcmalloc: large alloc 6862053376 bytes == 0x55cfd86b2000 @  0x7f2f37052887 0x7f2f1248159d 0x7f2f124803ac 0x7f2f1248638b 0x7f2f12486c40 0x7f2f01e2cb0c 0x7f2f01e09c44 0x7f2f01e40107 0x7f2f01e40dc6 0x7f2f0180d034 0x7f2f104a19bb 0x7f2f104a54b8 0x7f2f104ca7d5 0x7f2f104c9cb8 0x7f2f104ac1f9 0x55bc817a8e00 0x55bc817a161a 0x55bc817a6f5d 0x55bc817a161a 0x55bc817a8ffe 0x55bc817a161a 0x55bc817a8ffe 0x55bc817a161a 0x55bc817bd7cc 0x55bc8178ce9e 0x55bc817a5f96 0x55bc817a161a 0x55bc817a9612 0x55bc817a161a 0x55bc817a8ffe 0x55bc817a161a\n",
            "Error in <TBasket::Streamer>: The value of fKeylen is incorrect (-23506) ; trying to recover by setting it to zero\n",
            "Error in <TBasket::Streamer>: The value of fObjlen is incorrect (-1970978596) ; trying to recover by setting it to zero\n",
            "Error in <TBasket::Streamer>: The value of fNbytes is incorrect (-65536) ; trying to recover by setting it to zero\n",
            "Error in <TBasket::TBasket::Streamer>: The value of fNevBufSize (-256) or fIOBits (0) is incorrect ; setting the buffer to a zombie.\n",
            "Error in <TBasket::Streamer>: The value of fKeylen is incorrect (-16527) ; trying to recover by setting it to zero\n",
            "Error in <TBasket::Streamer>: The value of fObjlen is incorrect (-1083098893) ; trying to recover by setting it to zero\n",
            "Error in <TBasket::Streamer>: The value of fNbytes is incorrect (-1297301354) ; trying to recover by setting it to zero\n",
            "Error in <TBasket::Streamer>: The value of fNbytes is incorrect (-14174892) ; trying to recover by setting it to zero\n",
            "Error in <TBasket::TBasket::Streamer>: The value of fNevBufSize (-1539340958) or fIOBits (153) is incorrect ; setting the buffer to a zombie.\n",
            "tcmalloc: large alloc 6862053376 bytes == 0x55d283e38000 @  0x7f2f37052887 0x7f2f1248159d 0x7f2f124803ac 0x7f2f1248638b 0x7f2f12486c40 0x7f2f01e2cb0c 0x7f2f01e09c44 0x7f2f01e40107 0x7f2f01e40dc6 0x7f2f0180d034 0x7f2f104a19bb 0x7f2f104a54b8 0x7f2f104ca7d5 0x7f2f104c9cb8 0x7f2f104ac1f9 0x55bc817a8e00 0x55bc817a161a 0x55bc817a6f5d 0x55bc817a161a 0x55bc817a8ffe 0x55bc817a161a 0x55bc817a8ffe 0x55bc817a161a 0x55bc817bd7cc 0x55bc8178ce9e 0x55bc817a5f96 0x55bc817a161a 0x55bc817a9612 0x55bc817a161a 0x55bc817a8ffe 0x55bc817a161a\n",
            "Error in <TBasket::Streamer>: The value of fKeylen is incorrect (-23506) ; trying to recover by setting it to zero\n",
            "Error in <TBasket::Streamer>: The value of fObjlen is incorrect (-1970978596) ; trying to recover by setting it to zero\n",
            "Error in <TBasket::Streamer>: The value of fNbytes is incorrect (-65536) ; trying to recover by setting it to zero\n",
            "Error in <TBasket::TBasket::Streamer>: The value of fNevBufSize (-256) or fIOBits (0) is incorrect ; setting the buffer to a zombie.\n",
            "Error in <TBasket::Streamer>: The value of fKeylen is incorrect (-16527) ; trying to recover by setting it to zero\n",
            "Error in <TBasket::Streamer>: The value of fObjlen is incorrect (-1083098893) ; trying to recover by setting it to zero\n",
            "Error in <TBasket::Streamer>: The value of fNbytes is incorrect (-1297301354) ; trying to recover by setting it to zero\n",
            "Error in <TBasket::Streamer>: The value of fNbytes is incorrect (-14174892) ; trying to recover by setting it to zero\n",
            "Error in <TBasket::TBasket::Streamer>: The value of fNevBufSize (-1539340958) or fIOBits (153) is incorrect ; setting the buffer to a zombie.\n",
            "tcmalloc: large alloc 6862053376 bytes == 0x55d52edbe000 @  0x7f2f37052887 0x7f2f1248159d 0x7f2f124803ac 0x7f2f1248638b 0x7f2f12486c40 0x7f2f01e2cb0c 0x7f2f01e09c44 0x7f2f01e40107 0x7f2f01e40dc6 0x7f2f0180d034 0x7f2f104a19bb 0x7f2f104a54b8 0x7f2f104ca7d5 0x7f2f104c9cb8 0x7f2f104ac1f9 0x55bc817a8e00 0x55bc817a161a 0x55bc817a6f5d 0x55bc817a161a 0x55bc817a8ffe 0x55bc817a161a 0x55bc817a8ffe 0x55bc817a161a 0x55bc817bd7cc 0x55bc8178ce9e 0x55bc817a5f96 0x55bc817a161a 0x55bc817a9612 0x55bc817a161a 0x55bc817a8ffe 0x55bc817a161a\n",
            "Error in <TBasket::Streamer>: The value of fKeylen is incorrect (-23506) ; trying to recover by setting it to zero\n",
            "Error in <TBasket::Streamer>: The value of fObjlen is incorrect (-1970978596) ; trying to recover by setting it to zero\n",
            "Error in <TBasket::Streamer>: The value of fNbytes is incorrect (-65536) ; trying to recover by setting it to zero\n",
            "Error in <TBasket::TBasket::Streamer>: The value of fNevBufSize (-256) or fIOBits (0) is incorrect ; setting the buffer to a zombie.\n",
            "Error in <TBasket::Streamer>: The value of fKeylen is incorrect (-16527) ; trying to recover by setting it to zero\n",
            "Error in <TBasket::Streamer>: The value of fObjlen is incorrect (-1083098893) ; trying to recover by setting it to zero\n",
            "Error in <TBasket::Streamer>: The value of fNbytes is incorrect (-1297301354) ; trying to recover by setting it to zero\n",
            "Error in <TBasket::Streamer>: The value of fNbytes is incorrect (-14174892) ; trying to recover by setting it to zero\n",
            "Error in <TBasket::TBasket::Streamer>: The value of fNevBufSize (-1539340958) or fIOBits (153) is incorrect ; setting the buffer to a zombie.\n",
            "tcmalloc: large alloc 6862053376 bytes == 0x55d7d9d44000 @  0x7f2f37052887 0x7f2f1248159d 0x7f2f124803ac 0x7f2f1248638b 0x7f2f12486c40 0x7f2f01e2cb0c 0x7f2f01e09c44 0x7f2f01e40107 0x7f2f01e40dc6 0x7f2f0180d034 0x7f2f104a19bb 0x7f2f104a54b8 0x7f2f104ca7d5 0x7f2f104c9cb8 0x7f2f104ac1f9 0x55bc817a8e00 0x55bc817a161a 0x55bc817a6f5d 0x55bc817a161a 0x55bc817a8ffe 0x55bc817a161a 0x55bc817a8ffe 0x55bc817a161a 0x55bc817bd7cc 0x55bc8178ce9e 0x55bc817a5f96 0x55bc817a161a 0x55bc817a9612 0x55bc817a161a 0x55bc817a8ffe 0x55bc817a161a\n",
            "Error in <TBasket::Streamer>: The value of fKeylen is incorrect (-23506) ; trying to recover by setting it to zero\n",
            "Error in <TBasket::Streamer>: The value of fObjlen is incorrect (-1970978596) ; trying to recover by setting it to zero\n",
            "Error in <TBasket::Streamer>: The value of fNbytes is incorrect (-65536) ; trying to recover by setting it to zero\n",
            "Error in <TBasket::TBasket::Streamer>: The value of fNevBufSize (-256) or fIOBits (0) is incorrect ; setting the buffer to a zombie.\n",
            "Error in <TBasket::Streamer>: The value of fKeylen is incorrect (-16527) ; trying to recover by setting it to zero\n",
            "Error in <TBasket::Streamer>: The value of fObjlen is incorrect (-1083098893) ; trying to recover by setting it to zero\n",
            "Error in <TBasket::Streamer>: The value of fNbytes is incorrect (-1297301354) ; trying to recover by setting it to zero\n",
            "Error in <TBasket::Streamer>: The value of fNbytes is incorrect (-14174892) ; trying to recover by setting it to zero\n",
            "Error in <TBasket::TBasket::Streamer>: The value of fNevBufSize (-1539340958) or fIOBits (153) is incorrect ; setting the buffer to a zombie.\n",
            "tcmalloc: large alloc 6862053376 bytes == 0x55da854ca000 @  0x7f2f37052887 0x7f2f1248159d 0x7f2f124803ac 0x7f2f1248638b 0x7f2f12486c40 0x7f2f01e2cb0c 0x7f2f01e09c44 0x7f2f01e40107 0x7f2f01e40dc6 0x7f2f0180d034 0x7f2f104a19bb 0x7f2f104a54b8 0x7f2f104ca7d5 0x7f2f104c9cb8 0x7f2f104ac1f9 0x55bc817a8e00 0x55bc817a161a 0x55bc817a6f5d 0x55bc817a161a 0x55bc817a8ffe 0x55bc817a161a 0x55bc817a8ffe 0x55bc817a161a 0x55bc817bd7cc 0x55bc8178ce9e 0x55bc817a5f96 0x55bc817a161a 0x55bc817a9612 0x55bc817a161a 0x55bc817a8ffe 0x55bc817a161a\n",
            "Error in <TBasket::Streamer>: The value of fKeylen is incorrect (-23506) ; trying to recover by setting it to zero\n",
            "Error in <TBasket::Streamer>: The value of fObjlen is incorrect (-1970978596) ; trying to recover by setting it to zero\n",
            "Error in <TBasket::Streamer>: The value of fNbytes is incorrect (-65536) ; trying to recover by setting it to zero\n",
            "Error in <TBasket::TBasket::Streamer>: The value of fNevBufSize (-256) or fIOBits (0) is incorrect ; setting the buffer to a zombie.\n",
            "Error in <TBasket::Streamer>: The value of fKeylen is incorrect (-16527) ; trying to recover by setting it to zero\n",
            "Error in <TBasket::Streamer>: The value of fObjlen is incorrect (-1083098893) ; trying to recover by setting it to zero\n",
            "Error in <TBasket::Streamer>: The value of fNbytes is incorrect (-1297301354) ; trying to recover by setting it to zero\n",
            "Error in <TBasket::Streamer>: The value of fNbytes is incorrect (-14174892) ; trying to recover by setting it to zero\n",
            "Error in <TBasket::TBasket::Streamer>: The value of fNevBufSize (-1539340958) or fIOBits (153) is incorrect ; setting the buffer to a zombie.\n",
            "tcmalloc: large alloc 6862053376 bytes == 0x55dd30450000 @  0x7f2f37052887 0x7f2f1248159d 0x7f2f124803ac 0x7f2f1248638b 0x7f2f12486c40 0x7f2f01e2cb0c 0x7f2f01e09c44 0x7f2f01e40107 0x7f2f01e40dc6 0x7f2f0180d034 0x7f2f104a19bb 0x7f2f104a54b8 0x7f2f104ca7d5 0x7f2f104c9cb8 0x7f2f104ac1f9 0x55bc817a8e00 0x55bc817a161a 0x55bc817a6f5d 0x55bc817a161a 0x55bc817a8ffe 0x55bc817a161a 0x55bc817a8ffe 0x55bc817a161a 0x55bc817bd7cc 0x55bc8178ce9e 0x55bc817a5f96 0x55bc817a161a 0x55bc817a9612 0x55bc817a161a 0x55bc817a8ffe 0x55bc817a161a\n",
            "Error in <TBasket::Streamer>: The value of fKeylen is incorrect (-23506) ; trying to recover by setting it to zero\n",
            "Error in <TBasket::Streamer>: The value of fObjlen is incorrect (-1970978596) ; trying to recover by setting it to zero\n",
            "Error in <TBasket::Streamer>: The value of fNbytes is incorrect (-65536) ; trying to recover by setting it to zero\n",
            "Error in <TBasket::TBasket::Streamer>: The value of fNevBufSize (-256) or fIOBits (0) is incorrect ; setting the buffer to a zombie.\n",
            "Error in <TBasket::Streamer>: The value of fKeylen is incorrect (-16527) ; trying to recover by setting it to zero\n",
            "Error in <TBasket::Streamer>: The value of fObjlen is incorrect (-1083098893) ; trying to recover by setting it to zero\n",
            "Error in <TBasket::Streamer>: The value of fNbytes is incorrect (-1297301354) ; trying to recover by setting it to zero\n",
            "Error in <TBasket::Streamer>: The value of fNbytes is incorrect (-14174892) ; trying to recover by setting it to zero\n",
            "Error in <TBasket::TBasket::Streamer>: The value of fNevBufSize (-1539340958) or fIOBits (153) is incorrect ; setting the buffer to a zombie.\n",
            "Error in <TBasket::Streamer>: The value of fKeylen is incorrect (-23506) ; trying to recover by setting it to zero\n",
            "Error in <TBasket::Streamer>: The value of fObjlen is incorrect (-1970978596) ; trying to recover by setting it to zero\n",
            "Error in <TBasket::Streamer>: The value of fNbytes is incorrect (-65536) ; trying to recover by setting it to zero\n",
            "Error in <TBasket::TBasket::Streamer>: The value of fNevBufSize (-256) or fIOBits (0) is incorrect ; setting the buffer to a zombie.\n",
            "Error in <TBasket::Streamer>: The value of fKeylen is incorrect (-16527) ; trying to recover by setting it to zero\n",
            "Error in <TBasket::Streamer>: The value of fObjlen is incorrect (-1083098893) ; trying to recover by setting it to zero\n",
            "Error in <TBasket::Streamer>: The value of fNbytes is incorrect (-1297301354) ; trying to recover by setting it to zero\n",
            "Error in <TBasket::Streamer>: The value of fNbytes is incorrect (-14174892) ; trying to recover by setting it to zero\n",
            "Error in <TBasket::TBasket::Streamer>: The value of fNevBufSize (-1539340958) or fIOBits (153) is incorrect ; setting the buffer to a zombie.\n"
          ],
          "name": "stderr"
        },
        {
          "output_type": "display_data",
          "data": {
            "image/png": "[encoded data removed]",
            "text/plain": [
              "<IPython.core.display.Image object>"
            ]
          },
          "metadata": {
            "tags": []
          }
        }
      ]
    },
    {
      "cell_type": "code",
      "metadata": {
        "id": "qdiU-Z-uPiq6",
        "colab_type": "code",
        "colab": {
          "base_uri": "https://localhost:8080/",
          "height": 606
        },
        "outputId": "0f091071-2ba8-4034-86fa-b4b70bad83da"
      },
      "source": [
        "#Make plots of H1/H2/H3 _ProbK on one plot\n",
        "d=(ROOT.TCanvas(\"myCanvasName\",\"The Canvas Title\",800,600))\n",
        "tree.Draw(\"H1_ProbK>>H1_prob(100,0,1)\")\n",
        "tree.Draw(\"H2_ProbK>>H2_prob(100,0,1)\")\n",
        "tree.Draw(\"H3_ProbK>>H3_prob(100,0,1)\")\n",
        "histogram1 = ROOT.gDirectory.Get(\"H1_prob\")\n",
        "histogram2 = ROOT.gDirectory.Get(\"H2_prob\")\n",
        "histogram3 = ROOT.gDirectory.Get(\"H3_prob\")\n",
        "histogram1.Draw()\n",
        "histogram1.SetTitle(\" Probabilities of H1, H2, H3 of being a kaon\")\n",
        "histogram2.SetLineColor(1)\n",
        "histogram2.Draw('same')\n",
        "histogram3.SetLineColor(2)\n",
        "histogram3.Draw('same')\n",
        "d.Draw()"
      ],
      "execution_count": 40,
      "outputs": [
        {
          "output_type": "stream",
          "text": [
            "Warning in <TCanvas::Constructor>: Deleting canvas with same name: myCanvasName\n"
          ],
          "name": "stderr"
        },
        {
          "output_type": "display_data",
          "data": {
            "image/png": "[encoded data removed]",
            "text/plain": [
              "<IPython.core.display.Image object>"
            ]
          },
          "metadata": {
            "tags": []
          }
        }
      ]
    },
    {
      "cell_type": "code",
      "metadata": {
        "id": "b6C_77ziflqV",
        "colab_type": "code",
        "colab": {}
      },
      "source": [
        "#Make plots of H1/H2/H3 _ProbK on one plot\n",
        "d=(ROOT.TCanvas(\"myCanvasName\",\"The Canvas Title\",800,600))\n",
        "tree.Draw(\"H1_ProbPi>>H1_prob(100,0,1)\")\n",
        "tree.Draw(\"H2_ProbPi>>H2_prob(100,0,1)\")\n",
        "tree.Draw(\"H3_ProbPi>>H3_prob(100,0,1)\")\n",
        "histogram1 = ROOT.gDirectory.Get(\"H1_prob\")\n",
        "histogram2 = ROOT.gDirectory.Get(\"H2_prob\")\n",
        "histogram3 = ROOT.gDirectory.Get(\"H3_prob\")\n",
        "histogram1.Draw()\n",
        "histogram1.SetTitle(\" Probabilities of H1, H2, H3 of being a kaon\")\n",
        "histogram2.SetLineColor(1)\n",
        "histogram2.Draw('same')\n",
        "histogram3.SetLineColor(2)\n",
        "histogram3.Draw('same')\n",
        "d.Draw()"
      ],
      "execution_count": 0,
      "outputs": []
    },
    {
      "cell_type": "code",
      "metadata": {
        "id": "_jsyQoqtf2Id",
        "colab_type": "code",
        "outputId": "1b0fb211-56a3-41be-bfde-e41c6b664400",
        "colab": {
          "base_uri": "https://localhost:8080/",
          "height": 589
        }
      },
      "source": [
        "#For all our particles, make a plot of the B_VertexChi2\n",
        "\n",
        "e=(ROOT.TCanvas(\"myCanvasName\",\"The Canvas Title\",800,600))\n",
        "tree.Draw(\"B_VertexChi2\"+\">>histogram(100,-1,20)\")\n",
        "histogram1 = ROOT.gDirectory.Get(\"histogram\")\n",
        "e.Draw()"
      ],
      "execution_count": 0,
      "outputs": [
        {
          "output_type": "display_data",
          "data": {
            "image/png": "[encoded data removed]",
            "text/plain": [
              "<IPython.core.display.Image object>"
            ]
          },
          "metadata": {
            "tags": []
          }
        }
      ]
    },
    {
      "cell_type": "markdown",
      "metadata": {
        "id": "sjCHiPjzPgSU",
        "colab_type": "text"
      },
      "source": [
        "# Something 1"
      ]
    },
    {
      "cell_type": "code",
      "metadata": {
        "id": "5Opl1McthauS",
        "colab_type": "code",
        "outputId": "53568071-4863-476b-a8d2-43139f258382",
        "colab": {
          "base_uri": "https://localhost:8080/",
          "height": 1000
        }
      },
      "source": [
        "#To apply the selection - we can use the copytree command:\n",
        "selection=(\"(H1_ProbPi>0.5&H2_ProbPi>0.5)&H3_ProbPi>0.5&!H1_isMuon\")\n",
        "CutTree=tree.CopyTree(selection)\n",
        "\n",
        "#So now we take our data in tree and apply selection to it (so only events which comply with those rules are kept) and put the new data in CutTree"
      ],
      "execution_count": 41,
      "outputs": [
        {
          "output_type": "stream",
          "text": [
            "Error in <TBranch::TBranch::WriteBasketImpl>: basket's WriteBuffer failed.\n",
            "\n",
            "Error in <TBranch::TBranch::WriteBasketImpl>: basket's WriteBuffer failed.\n",
            "\n",
            "Error in <TBranch::TBranch::WriteBasketImpl>: basket's WriteBuffer failed.\n",
            "\n",
            "Error in <TBranch::TBranch::WriteBasketImpl>: basket's WriteBuffer failed.\n",
            "\n",
            "Error in <TBranch::TBranch::WriteBasketImpl>: basket's WriteBuffer failed.\n",
            "\n",
            "Error in <TBranch::TBranch::WriteBasketImpl>: basket's WriteBuffer failed.\n",
            "\n",
            "Error in <TBranch::TBranch::WriteBasketImpl>: basket's WriteBuffer failed.\n",
            "\n",
            "Error in <TBranch::TBranch::WriteBasketImpl>: basket's WriteBuffer failed.\n",
            "\n",
            "Error in <TBranch::TBranch::WriteBasketImpl>: basket's WriteBuffer failed.\n",
            "\n",
            "Error in <TBranch::TBranch::WriteBasketImpl>: basket's WriteBuffer failed.\n",
            "\n",
            "Error in <TBranch::TBranch::WriteBasketImpl>: basket's WriteBuffer failed.\n",
            "\n",
            "Error in <TBranch::TBranch::WriteBasketImpl>: basket's WriteBuffer failed.\n",
            "\n",
            "Error in <TBranch::TBranch::WriteBasketImpl>: basket's WriteBuffer failed.\n",
            "\n",
            "Error in <TBranch::TBranch::WriteBasketImpl>: basket's WriteBuffer failed.\n",
            "\n",
            "Error in <TBranch::TBranch::WriteBasketImpl>: basket's WriteBuffer failed.\n",
            "\n",
            "Error in <TBranch::TBranch::WriteBasketImpl>: basket's WriteBuffer failed.\n",
            "\n",
            "Error in <TBranch::TBranch::WriteBasketImpl>: basket's WriteBuffer failed.\n",
            "\n",
            "Error in <TBranch::TBranch::WriteBasketImpl>: basket's WriteBuffer failed.\n",
            "\n",
            "Error in <TBranch::TBranch::WriteBasketImpl>: basket's WriteBuffer failed.\n",
            "\n",
            "Error in <TBranch::TBranch::WriteBasketImpl>: basket's WriteBuffer failed.\n",
            "\n",
            "Error in <TBranch::TBranch::WriteBasketImpl>: basket's WriteBuffer failed.\n",
            "\n",
            "Error in <TBranch::TBranch::WriteBasketImpl>: basket's WriteBuffer failed.\n",
            "\n",
            "Error in <TBranch::TBranch::WriteBasketImpl>: basket's WriteBuffer failed.\n",
            "\n",
            "Error in <TBranch::TBranch::WriteBasketImpl>: basket's WriteBuffer failed.\n",
            "\n",
            "Error in <TBranch::TBranch::WriteBasketImpl>: basket's WriteBuffer failed.\n",
            "\n",
            "Error in <TBranch::TBranch::WriteBasketImpl>: basket's WriteBuffer failed.\n",
            "\n",
            "Error in <TBranch::TBranch::WriteBasketImpl>: basket's WriteBuffer failed.\n",
            "\n",
            "Error in <TBranch::TBranch::WriteBasketImpl>: basket's WriteBuffer failed.\n",
            "\n",
            "Error in <TBranch::TBranch::WriteBasketImpl>: basket's WriteBuffer failed.\n",
            "\n",
            "Error in <TBranch::TBranch::WriteBasketImpl>: basket's WriteBuffer failed.\n",
            "\n",
            "Error in <TBranch::TBranch::WriteBasketImpl>: basket's WriteBuffer failed.\n",
            "\n",
            "Error in <TBranch::TBranch::WriteBasketImpl>: basket's WriteBuffer failed.\n",
            "\n",
            "Error in <TBranch::TBranch::WriteBasketImpl>: basket's WriteBuffer failed.\n",
            "\n",
            "Error in <TBranch::TBranch::WriteBasketImpl>: basket's WriteBuffer failed.\n",
            "\n",
            "Error in <TBranch::TBranch::WriteBasketImpl>: basket's WriteBuffer failed.\n",
            "\n",
            "Error in <TBranch::TBranch::WriteBasketImpl>: basket's WriteBuffer failed.\n",
            "\n",
            "Error in <TBranch::TBranch::WriteBasketImpl>: basket's WriteBuffer failed.\n",
            "\n",
            "Error in <TBranch::TBranch::WriteBasketImpl>: basket's WriteBuffer failed.\n",
            "\n",
            "Error in <TBranch::TBranch::WriteBasketImpl>: basket's WriteBuffer failed.\n",
            "\n",
            "Error in <TBranch::TBranch::WriteBasketImpl>: basket's WriteBuffer failed.\n",
            "\n",
            "Error in <TBranch::TBranch::WriteBasketImpl>: basket's WriteBuffer failed.\n",
            "\n",
            "Error in <TBranch::TBranch::WriteBasketImpl>: basket's WriteBuffer failed.\n",
            "\n",
            "Error in <TBranch::TBranch::WriteBasketImpl>: basket's WriteBuffer failed.\n",
            "\n",
            "Error in <TBranch::TBranch::WriteBasketImpl>: basket's WriteBuffer failed.\n",
            "\n",
            "Error in <TBranch::TBranch::WriteBasketImpl>: basket's WriteBuffer failed.\n",
            "\n",
            "Error in <TBranch::TBranch::WriteBasketImpl>: basket's WriteBuffer failed.\n",
            "\n",
            "Error in <TBranch::TBranch::WriteBasketImpl>: basket's WriteBuffer failed.\n",
            "\n",
            "Error in <TBranch::TBranch::WriteBasketImpl>: basket's WriteBuffer failed.\n",
            "\n",
            "Error in <TBranch::TBranch::WriteBasketImpl>: basket's WriteBuffer failed.\n",
            "\n",
            "Error in <TBranch::TBranch::WriteBasketImpl>: basket's WriteBuffer failed.\n",
            "\n",
            "Error in <TBranch::TBranch::WriteBasketImpl>: basket's WriteBuffer failed.\n",
            "\n",
            "Error in <TBranch::TBranch::WriteBasketImpl>: basket's WriteBuffer failed.\n",
            "\n",
            "Error in <TBranch::TBranch::WriteBasketImpl>: basket's WriteBuffer failed.\n",
            "\n",
            "Error in <TBranch::TBranch::WriteBasketImpl>: basket's WriteBuffer failed.\n",
            "\n",
            "Error in <TBranch::TBranch::WriteBasketImpl>: basket's WriteBuffer failed.\n",
            "\n",
            "Error in <TBranch::TBranch::WriteBasketImpl>: basket's WriteBuffer failed.\n",
            "\n",
            "Error in <TBranch::TBranch::WriteBasketImpl>: basket's WriteBuffer failed.\n",
            "\n",
            "Error in <TBranch::TBranch::WriteBasketImpl>: basket's WriteBuffer failed.\n",
            "\n",
            "Error in <TBranch::TBranch::WriteBasketImpl>: basket's WriteBuffer failed.\n",
            "\n",
            "Error in <TBranch::TBranch::WriteBasketImpl>: basket's WriteBuffer failed.\n",
            "\n",
            "Error in <TBranch::TBranch::WriteBasketImpl>: basket's WriteBuffer failed.\n",
            "\n",
            "Error in <TBranch::TBranch::WriteBasketImpl>: basket's WriteBuffer failed.\n",
            "\n",
            "Error in <TBranch::TBranch::WriteBasketImpl>: basket's WriteBuffer failed.\n",
            "\n",
            "Error in <TBranch::TBranch::WriteBasketImpl>: basket's WriteBuffer failed.\n",
            "\n",
            "Error in <TBranch::TBranch::WriteBasketImpl>: basket's WriteBuffer failed.\n",
            "\n",
            "Error in <TBranch::TBranch::WriteBasketImpl>: basket's WriteBuffer failed.\n",
            "\n",
            "Error in <TBranch::TBranch::WriteBasketImpl>: basket's WriteBuffer failed.\n",
            "\n",
            "Error in <TBranch::TBranch::WriteBasketImpl>: basket's WriteBuffer failed.\n",
            "\n",
            "Error in <TBranch::TBranch::WriteBasketImpl>: basket's WriteBuffer failed.\n",
            "\n",
            "Error in <TBranch::TBranch::WriteBasketImpl>: basket's WriteBuffer failed.\n",
            "\n",
            "Error in <TBranch::TBranch::WriteBasketImpl>: basket's WriteBuffer failed.\n",
            "\n",
            "Error in <TBranch::TBranch::WriteBasketImpl>: basket's WriteBuffer failed.\n",
            "\n",
            "Error in <TBranch::TBranch::WriteBasketImpl>: basket's WriteBuffer failed.\n",
            "\n",
            "Error in <TBranch::TBranch::WriteBasketImpl>: basket's WriteBuffer failed.\n",
            "\n",
            "Error in <TBranch::TBranch::WriteBasketImpl>: basket's WriteBuffer failed.\n",
            "\n",
            "Error in <TBranch::TBranch::WriteBasketImpl>: basket's WriteBuffer failed.\n",
            "\n",
            "Error in <TBranch::TBranch::WriteBasketImpl>: basket's WriteBuffer failed.\n",
            "\n",
            "Error in <TBranch::TBranch::WriteBasketImpl>: basket's WriteBuffer failed.\n",
            "\n"
          ],
          "name": "stderr"
        }
      ]
    },
    {
      "cell_type": "code",
      "metadata": {
        "colab_type": "code",
        "id": "zVWYEnTqOlgH",
        "colab": {}
      },
      "source": [
        "#Now as a good check, we should see the effect of applying our cuts.\n",
        "#On one histogram, plot the B meson mass, from both the tree (pre-cuts) and the CutTree (post-cuts)\n",
        "#What do you notice about your histogram now?\n",
        "\n",
        "d=(ROOT.TCanvas(\"myCanvasName\",\"The Canvas Title\",800,600))\n",
        "tree.Draw(get_mass()+\">>histogram1(100,400,600)\")\n",
        "CutTree.Draw(get_mass()+\">>histogram2(100,400,600)\")\n",
        "histogram1 = ROOT.gDirectory.Get(\"histogram1\")\n",
        "histogram2 = ROOT.gDirectory.Get(\"histogram2\")\n",
        "histogram1.Draw()\n",
        "histogram2.SetLineColor(1)\n",
        "histogram2.Draw('same')\n",
        "d.Draw()\n",
        "\n",
        "# it is noticable the the cut removes almost all particles, leaving the second \n",
        "# diagram barely visible"
      ],
      "execution_count": 0,
      "outputs": []
    },
    {
      "cell_type": "code",
      "metadata": {
        "id": "XdD6fjErhljZ",
        "colab_type": "code",
        "colab": {
          "base_uri": "https://localhost:8080/",
          "height": 54
        },
        "outputId": "aa32b5a9-29d8-4f3a-d5b4-1e31d47befb0"
      },
      "source": [
        "import math\n",
        "#First we define our physical measurement we want to fit using the RooRealVar\n",
        "# variable=ROOT.RooRealVar =(\"Variable from Python\", \"Nickname\",Min, Max, Units)\n",
        "m = ROOT.RooRealVar(\"B_Mass\", \"Mass\", 0, 5300, \"MeV/C^{2}\")\n",
        "#The remainder of the variables we need to pass into our model. E.g. for a gaussian, we need a mean and a width parameter to vary\n",
        "#For these RooRealVar's we add three numbers, a \"starting value\" and min/max values\n",
        "\n",
        "gauss_mean=ROOT.RooRealVar(\"gauss_mean\",\"Mean\",490,480,500)\n",
        "gauss_width=ROOT.RooRealVar(\"gauss_width\",\"Width\",3,0,60)\n",
        "\n",
        "#Now we have enough to make our Model for the signal:\n",
        "# ROOT.RooGaussion = None\n",
        "Gauss=ROOT.RooGaussian(\"Gaussian Signal\",\"Gauss\",m,gauss_mean,gauss_width)\n",
        "\n",
        "#We also need a background, so let's use a (simple) exponential:\n",
        "\n",
        "exponent=ROOT.RooRealVar(\"exponent\", \"C\", -0.2, -2, +2)\n",
        "\n",
        "#Define the  model for the background:\n",
        "\n",
        "Bkgnd=ROOT.RooExponential(\"Exponential Background\",\"Bkgnd\",m,exponent)\n",
        "\n",
        "m1 = ROOT.RooDataHist(\"B_Mass\", \"Mass\", ROOT.RooArgList(m), mass_histogram, 1.0)\n",
        "\n",
        "#Now we need to combine these two functions into a single PDF (probability density function)\n",
        "#and we need to add a scaling factor to fit what ratio of the two are used:\n",
        "\n",
        "sig_frac=ROOT.RooRealVar(\"Signal Fraction\",\"sigfrac\", 0.5, 0, 1)\n",
        "# just to make it work we'll set sig_frac to 0\n",
        "# sig_frac = 0\n",
        "model=ROOT.RooAddPdf(\"Full Model\",\"model\",ROOT.RooArgList(Gauss,Bkgnd),ROOT.RooArgList(sig_frac))"
      ],
      "execution_count": 37,
      "outputs": [
        {
          "output_type": "stream",
          "text": [
            "[#1] INFO:DataHandling -- RooDataHist::adjustBinning(B_Mass): fit range of variable B_Mass expanded to nearest bin boundaries: [0,5300] --> [400,600]\n"
          ],
          "name": "stdout"
        }
      ]
    },
    {
      "cell_type": "code",
      "metadata": {
        "id": "2XCBk7e5hn3o",
        "colab_type": "code",
        "outputId": "2a994fd3-846f-4c24-87ed-a3f22a251efb",
        "colab": {
          "base_uri": "https://localhost:8080/",
          "height": 1000
        }
      },
      "source": [
        "# Put our data set into a RooDataSet structure\n",
        "# data_to_fit=ROOT.RooDataSet(\"Data Set Cut\",\"data_to_fit\", CutTree, ROOT.RooArgSet(m))\n",
        "data_to_fit=m1\n",
        "\n",
        "# data = ROOT.RooDataSet(\"data\",\"data set\", tree, ROOT.RooArgSet(xmomentum,ymomentum,zmomentum), \"1==1\")\n",
        " \n",
        "#Then we can do the fitting:\n",
        "\n",
        "model.fitTo(data_to_fit)\n",
        "\n",
        "\"ProbP>0.5&ProbK<0.5|ProbP=0.4\"\n",
        "\n",
        "#if everything went well, you will see the outputs of RooFit below"
      ],
      "execution_count": 38,
      "outputs": [
        {
          "output_type": "execute_result",
          "data": {
            "text/plain": [
              "<ROOT.RooFitResult object at 0x(nil)>"
            ]
          },
          "metadata": {
            "tags": []
          },
          "execution_count": 38
        },
        {
          "output_type": "stream",
          "text": [
            "[#1] INFO:Minization -- RooMinimizer::optimizeConst: activating const optimization\n",
            "[#1] INFO:Minization --  The following expressions will be evaluated in cache-and-track mode: (Gaussian Signal,Exponential Background)\n",
            " **********\n",
            " **   80 **SET PRINT           1\n",
            " **********\n",
            " **********\n",
            " **   81 **SET NOGRAD\n",
            " **********\n",
            " PARAMETER DEFINITIONS:\n",
            "    NO.   NAME         VALUE      STEP SIZE      LIMITS\n",
            "     1 Signal Fraction   5.00000e-01  1.00000e-01    0.00000e+00  1.00000e+00\n",
            "     2 exponent    -2.00000e-01  4.00000e-01   -2.00000e+00  2.00000e+00\n",
            "     3 gauss_mean   4.90000e+02  2.00000e+00    4.80000e+02  5.00000e+02\n",
            "     4 gauss_width   3.00000e+00  1.50000e+00    0.00000e+00  6.00000e+01\n",
            " **********\n",
            " **   82 **SET ERR         0.5\n",
            " **********\n",
            " **********\n",
            " **   83 **SET PRINT           1\n",
            " **********\n",
            " **********\n",
            " **   84 **SET STR           1\n",
            " **********\n",
            " NOW USING STRATEGY  1: TRY TO BALANCE SPEED AGAINST RELIABILITY\n",
            " **********\n",
            " **   85 **MIGRAD        2000           1\n",
            " **********\n",
            " FIRST CALL TO USER FUNCTION AT NEW START POINT, WITH IFLAG=4.\n",
            " START MIGRAD MINIMIZATION.  STRATEGY  1.  CONVERGENCE WHEN EDM .LT. 1.00e-03\n",
            " FCN=863513 FROM MIGRAD    STATUS=INITIATE       42 CALLS          43 TOTAL\n",
            "                     EDM= unknown      STRATEGY= 1      NO ERROR MATRIX       \n",
            "  EXT PARAMETER               CURRENT GUESS       STEP         FIRST   \n",
            "  NO.   NAME      VALUE            ERROR          SIZE      DERIVATIVE \n",
            "   1  Signal Fraction   5.00000e-01   1.00000e-01   0.00000e+00  -1.54549e+05\n",
            "   2  exponent     5.86985e-03   4.00000e-01   1.03102e-01   1.71306e+06\n",
            "   3  gauss_mean   4.90000e+02   2.00000e+00   0.00000e+00  -6.78416e+05\n",
            "   4  gauss_width   3.00000e+00   1.50000e+00   0.00000e+00  -7.14414e+05\n",
            "                               ERR DEF= 0.5\n",
            " MIGRAD MINIMIZATION HAS CONVERGED.\n",
            " MIGRAD WILL VERIFY CONVERGENCE AND ERROR MATRIX.\n",
            " COVARIANCE MATRIX CALCULATED SUCCESSFULLY\n",
            " FCN=595512 FROM MIGRAD    STATUS=CONVERGED     178 CALLS         179 TOTAL\n",
            "                     EDM=2.35798e-07    STRATEGY= 1      ERROR MATRIX ACCURATE \n",
            "  EXT PARAMETER                                   STEP         FIRST   \n",
            "  NO.   NAME      VALUE            ERROR          SIZE      DERIVATIVE \n",
            "   1  Signal Fraction   9.94788e-01   1.87663e-04   1.34916e-03   1.41916e-01\n",
            "   2  exponent    -1.33575e-03   5.02425e-04   1.33829e-04  -7.22805e-01\n",
            "   3  gauss_mean   4.93770e+02   6.41671e-03   3.69125e-04  -2.98012e-01\n",
            "   4  gauss_width   3.04752e+00   4.97152e-03   1.95343e-04   6.98269e-01\n",
            "                               ERR DEF= 0.5\n",
            " EXTERNAL ERROR MATRIX.    NDIM=  25    NPAR=  4    ERR DEF=0.5\n",
            "  3.522e-08 -1.247e-09 -7.138e-09 -2.214e-07 \n",
            " -1.247e-09  2.524e-07 -4.764e-08  2.021e-08 \n",
            " -7.138e-09 -4.764e-08  4.117e-05  1.702e-07 \n",
            " -2.214e-07  2.021e-08  1.702e-07  2.472e-05 \n",
            " PARAMETER  CORRELATION COEFFICIENTS  \n",
            "       NO.  GLOBAL      1      2      3      4\n",
            "        1  0.23764   1.000 -0.013 -0.006 -0.237\n",
            "        2  0.02055  -0.013  1.000 -0.015  0.008\n",
            "        3  0.01652  -0.006 -0.015  1.000  0.005\n",
            "        4  0.23741  -0.237  0.008  0.005  1.000\n",
            " **********\n",
            " **   86 **SET ERR         0.5\n",
            " **********\n",
            " **********\n",
            " **   87 **SET PRINT           1\n",
            " **********\n",
            " **********\n",
            " **   88 **HESSE        2000\n",
            " **********\n",
            " COVARIANCE MATRIX CALCULATED SUCCESSFULLY\n",
            " FCN=595512 FROM HESSE     STATUS=OK             23 CALLS         202 TOTAL\n",
            "                     EDM=2.36055e-07    STRATEGY= 1      ERROR MATRIX ACCURATE \n",
            "  EXT PARAMETER                                INTERNAL      INTERNAL  \n",
            "  NO.   NAME      VALUE            ERROR       STEP SIZE       VALUE   \n",
            "   1  Signal Fraction   9.94788e-01   1.87703e-04   5.39664e-05   1.71530e+00\n",
            "   2  exponent    -1.33575e-03   5.02391e-04   5.35317e-06  -6.67876e-04\n",
            "   3  gauss_mean   4.93770e+02   6.41669e-03   1.47650e-05   3.86522e-01\n",
            "   4  gauss_width   3.04752e+00   4.97265e-03   7.81374e-06  -1.11615e+00\n",
            "                               ERR DEF= 0.5\n",
            " EXTERNAL ERROR MATRIX.    NDIM=  25    NPAR=  4    ERR DEF=0.5\n",
            "  3.523e-08 -9.305e-10 -7.053e-09 -2.224e-07 \n",
            " -9.305e-10  2.524e-07 -4.784e-08  1.478e-08 \n",
            " -7.053e-09 -4.784e-08  4.117e-05  1.464e-07 \n",
            " -2.224e-07  1.478e-08  1.464e-07  2.473e-05 \n",
            " PARAMETER  CORRELATION COEFFICIENTS  \n",
            "       NO.  GLOBAL      1      2      3      4\n",
            "        1  0.23846   1.000 -0.010 -0.006 -0.238\n",
            "        2  0.01825  -0.010  1.000 -0.015  0.006\n",
            "        3  0.01635  -0.006 -0.015  1.000  0.005\n",
            "        4  0.23831  -0.238  0.006  0.005  1.000\n",
            "[#1] INFO:Minization -- RooMinimizer::optimizeConst: deactivating const optimization\n"
          ],
          "name": "stdout"
        }
      ]
    },
    {
      "cell_type": "code",
      "metadata": {
        "id": "fpdgjx3iNWdt",
        "colab_type": "code",
        "outputId": "7f677e87-d264-4aba-a366-89d17ea28ba8",
        "colab": {
          "base_uri": "https://localhost:8080/",
          "height": 539
        }
      },
      "source": [
        "#Now to plot it all\n",
        "c1=ROOT.TCanvas(\"c1\",\"c1\")\n",
        "frame=m.frame()\n",
        "data_to_fit.plotOn(frame)\n",
        "model.plotOn(frame, ROOT.RooFit.Components(\"Gauss\"),ROOT.RooFit.LineColor(8),ROOT.RooFit.LineStyle(2))\n",
        "model.plotOn(frame, ROOT.RooFit.Components(\"Bkgnd\"),ROOT.RooFit.LineColor(46),ROOT.RooFit.LineStyle(2))\n",
        "model.plotOn(frame)\n",
        "frame.Draw()\n",
        "c1.Update()\n",
        "c1.Draw()"
      ],
      "execution_count": 39,
      "outputs": [
        {
          "output_type": "stream",
          "text": [
            "[#0] ERROR:Plotting -- RooAbsPdf::plotOn(Full Model) ERROR: component selection expression 'Gauss' does not select any components of p.d.f.\n",
            "[#0] ERROR:Plotting -- RooAbsPdf::plotOn(Full Model) ERROR: component selection expression 'Bkgnd' does not select any components of p.d.f.\n"
          ],
          "name": "stdout"
        },
        {
          "output_type": "stream",
          "text": [
            "Warning in <TCanvas::Constructor>: Deleting canvas with same name: c1\n"
          ],
          "name": "stderr"
        },
        {
          "output_type": "display_data",
          "data": {
            "image/png": "[encoded data removed]",
            "text/plain": [
              "<IPython.core.display.Image object>"
            ]
          },
          "metadata": {
            "tags": []
          }
        }
      ]
    },
    {
      "cell_type": "code",
      "metadata": {
        "id": "LVquUwAtSgbQ",
        "colab_type": "code",
        "colab": {}
      },
      "source": [
        ""
      ],
      "execution_count": 0,
      "outputs": []
    }
  ]
}